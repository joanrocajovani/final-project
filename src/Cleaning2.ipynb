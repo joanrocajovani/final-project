{
 "cells": [
  {
   "cell_type": "code",
   "execution_count": 38,
   "id": "9d236d5a",
   "metadata": {},
   "outputs": [],
   "source": [
    "import pandas as pd\n",
    "import numpy as np\n",
    "import seaborn as sns\n",
    "import matplotlib.pyplot as plt\n",
    "import Cleaning_Funct as clean"
   ]
  },
  {
   "cell_type": "markdown",
   "id": "908312da",
   "metadata": {},
   "source": [
    "### Clean the original Dataframe"
   ]
  },
  {
   "cell_type": "code",
   "execution_count": 2,
   "id": "7f11b064",
   "metadata": {},
   "outputs": [],
   "source": [
    "df = clean.clean_dataframe('../data/Catalunya2.xls')"
   ]
  },
  {
   "cell_type": "code",
   "execution_count": 3,
   "id": "6804242e",
   "metadata": {},
   "outputs": [
    {
     "data": {
      "text/html": [
       "<div>\n",
       "<style scoped>\n",
       "    .dataframe tbody tr th:only-of-type {\n",
       "        vertical-align: middle;\n",
       "    }\n",
       "\n",
       "    .dataframe tbody tr th {\n",
       "        vertical-align: top;\n",
       "    }\n",
       "\n",
       "    .dataframe thead th {\n",
       "        text-align: right;\n",
       "    }\n",
       "</style>\n",
       "<table border=\"1\" class=\"dataframe\">\n",
       "  <thead>\n",
       "    <tr style=\"text-align: right;\">\n",
       "      <th></th>\n",
       "      <th>Name</th>\n",
       "      <th>Activity_Code</th>\n",
       "      <th>Zip_Code</th>\n",
       "      <th>Province</th>\n",
       "      <th>Revenue(k)</th>\n",
       "      <th>EBITDA(k)</th>\n",
       "      <th>Net_Income(k)</th>\n",
       "      <th>Total_Assets(k)</th>\n",
       "      <th>Equity(k)</th>\n",
       "      <th>Employees</th>\n",
       "      <th>Liabilities(k)</th>\n",
       "      <th>Net_Income_Margin(%)</th>\n",
       "      <th>EBITDA_Margin(%)</th>\n",
       "      <th>Debt_Ratio(%)</th>\n",
       "      <th>Industry</th>\n",
       "    </tr>\n",
       "  </thead>\n",
       "  <tbody>\n",
       "    <tr>\n",
       "      <th>0</th>\n",
       "      <td>SEAT SA</td>\n",
       "      <td>2910</td>\n",
       "      <td>8760</td>\n",
       "      <td>Barcelona</td>\n",
       "      <td>11423000</td>\n",
       "      <td>746700</td>\n",
       "      <td>345600</td>\n",
       "      <td>5843000</td>\n",
       "      <td>1991400</td>\n",
       "      <td>14667</td>\n",
       "      <td>3851600</td>\n",
       "      <td>3.025475</td>\n",
       "      <td>6.536812</td>\n",
       "      <td>65.918193</td>\n",
       "      <td>Manufacturing</td>\n",
       "    </tr>\n",
       "    <tr>\n",
       "      <th>1</th>\n",
       "      <td>LIDL SUPERMERCADOS SAU</td>\n",
       "      <td>4711</td>\n",
       "      <td>8110</td>\n",
       "      <td>Barcelona</td>\n",
       "      <td>4443165</td>\n",
       "      <td>362517</td>\n",
       "      <td>172642</td>\n",
       "      <td>2921430</td>\n",
       "      <td>1175303</td>\n",
       "      <td>11689</td>\n",
       "      <td>1746127</td>\n",
       "      <td>3.885564</td>\n",
       "      <td>8.158981</td>\n",
       "      <td>59.769599</td>\n",
       "      <td>Wholesale &amp; Retail Trade; Repair of Vehicles</td>\n",
       "    </tr>\n",
       "    <tr>\n",
       "      <th>2</th>\n",
       "      <td>VOLKSWAGEN GROUP ESPAÑA DISTRIBUCION SA.</td>\n",
       "      <td>4511</td>\n",
       "      <td>8820</td>\n",
       "      <td>Barcelona</td>\n",
       "      <td>3991886</td>\n",
       "      <td>42720</td>\n",
       "      <td>20355</td>\n",
       "      <td>1785219</td>\n",
       "      <td>137196</td>\n",
       "      <td>439</td>\n",
       "      <td>1648023</td>\n",
       "      <td>0.509909</td>\n",
       "      <td>1.070171</td>\n",
       "      <td>92.314892</td>\n",
       "      <td>Wholesale &amp; Retail Trade; Repair of Vehicles</td>\n",
       "    </tr>\n",
       "    <tr>\n",
       "      <th>3</th>\n",
       "      <td>BUNGE IBERICA SA</td>\n",
       "      <td>4621</td>\n",
       "      <td>8960</td>\n",
       "      <td>Barcelona</td>\n",
       "      <td>3065238</td>\n",
       "      <td>1595</td>\n",
       "      <td>42700</td>\n",
       "      <td>710088</td>\n",
       "      <td>374977</td>\n",
       "      <td>429</td>\n",
       "      <td>335111</td>\n",
       "      <td>1.393040</td>\n",
       "      <td>0.052035</td>\n",
       "      <td>47.192883</td>\n",
       "      <td>Wholesale &amp; Retail Trade; Repair of Vehicles</td>\n",
       "    </tr>\n",
       "    <tr>\n",
       "      <th>4</th>\n",
       "      <td>VUELING AIRLINES, SA</td>\n",
       "      <td>5110</td>\n",
       "      <td>8820</td>\n",
       "      <td>Barcelona</td>\n",
       "      <td>2481046</td>\n",
       "      <td>166733</td>\n",
       "      <td>132237</td>\n",
       "      <td>2565643</td>\n",
       "      <td>384408</td>\n",
       "      <td>4438</td>\n",
       "      <td>2181235</td>\n",
       "      <td>5.329889</td>\n",
       "      <td>6.720270</td>\n",
       "      <td>85.017089</td>\n",
       "      <td>Transportation &amp; Storage</td>\n",
       "    </tr>\n",
       "  </tbody>\n",
       "</table>\n",
       "</div>"
      ],
      "text/plain": [
       "                                       Name Activity_Code  Zip_Code  \\\n",
       "0                                   SEAT SA          2910      8760   \n",
       "1                    LIDL SUPERMERCADOS SAU          4711      8110   \n",
       "2  VOLKSWAGEN GROUP ESPAÑA DISTRIBUCION SA.          4511      8820   \n",
       "3                          BUNGE IBERICA SA          4621      8960   \n",
       "4                      VUELING AIRLINES, SA          5110      8820   \n",
       "\n",
       "    Province  Revenue(k)  EBITDA(k)  Net_Income(k)  Total_Assets(k)  \\\n",
       "0  Barcelona    11423000     746700         345600          5843000   \n",
       "1  Barcelona     4443165     362517         172642          2921430   \n",
       "2  Barcelona     3991886      42720          20355          1785219   \n",
       "3  Barcelona     3065238       1595          42700           710088   \n",
       "4  Barcelona     2481046     166733         132237          2565643   \n",
       "\n",
       "   Equity(k)  Employees  Liabilities(k)  Net_Income_Margin(%)  \\\n",
       "0    1991400      14667         3851600              3.025475   \n",
       "1    1175303      11689         1746127              3.885564   \n",
       "2     137196        439         1648023              0.509909   \n",
       "3     374977        429          335111              1.393040   \n",
       "4     384408       4438         2181235              5.329889   \n",
       "\n",
       "   EBITDA_Margin(%)  Debt_Ratio(%)  \\\n",
       "0          6.536812      65.918193   \n",
       "1          8.158981      59.769599   \n",
       "2          1.070171      92.314892   \n",
       "3          0.052035      47.192883   \n",
       "4          6.720270      85.017089   \n",
       "\n",
       "                                       Industry  \n",
       "0                                 Manufacturing  \n",
       "1  Wholesale & Retail Trade; Repair of Vehicles  \n",
       "2  Wholesale & Retail Trade; Repair of Vehicles  \n",
       "3  Wholesale & Retail Trade; Repair of Vehicles  \n",
       "4                      Transportation & Storage  "
      ]
     },
     "execution_count": 3,
     "metadata": {},
     "output_type": "execute_result"
    }
   ],
   "source": [
    "df.head()"
   ]
  },
  {
   "cell_type": "code",
   "execution_count": 4,
   "id": "cfd2636f",
   "metadata": {},
   "outputs": [
    {
     "data": {
      "text/plain": [
       "Name                     object\n",
       "Activity_Code            object\n",
       "Zip_Code                  int64\n",
       "Province                 object\n",
       "Revenue(k)                int64\n",
       "EBITDA(k)                 int64\n",
       "Net_Income(k)             int64\n",
       "Total_Assets(k)           int64\n",
       "Equity(k)                 int64\n",
       "Employees                 int64\n",
       "Liabilities(k)            int64\n",
       "Net_Income_Margin(%)    float64\n",
       "EBITDA_Margin(%)        float64\n",
       "Debt_Ratio(%)           float64\n",
       "Industry                 object\n",
       "dtype: object"
      ]
     },
     "execution_count": 4,
     "metadata": {},
     "output_type": "execute_result"
    }
   ],
   "source": [
    "df.dtypes"
   ]
  },
  {
   "cell_type": "code",
   "execution_count": 5,
   "id": "cb14f37b",
   "metadata": {},
   "outputs": [],
   "source": [
    "#df.to_csv('cleancompaniesnoregion.csv', encoding='utf-8')"
   ]
  },
  {
   "cell_type": "markdown",
   "id": "825c93bc",
   "metadata": {},
   "source": [
    "### Generate the Merged Dataframe to get the Regions"
   ]
  },
  {
   "cell_type": "code",
   "execution_count": 6,
   "id": "583a3326",
   "metadata": {},
   "outputs": [],
   "source": [
    "merged = clean.get_ziptoregion('../data/CP_Municipis2.csv', '../data/Municipis_Cat3.csv')"
   ]
  },
  {
   "cell_type": "code",
   "execution_count": 7,
   "id": "4f849802",
   "metadata": {},
   "outputs": [
    {
     "data": {
      "text/html": [
       "<div>\n",
       "<style scoped>\n",
       "    .dataframe tbody tr th:only-of-type {\n",
       "        vertical-align: middle;\n",
       "    }\n",
       "\n",
       "    .dataframe tbody tr th {\n",
       "        vertical-align: top;\n",
       "    }\n",
       "\n",
       "    .dataframe thead th {\n",
       "        text-align: right;\n",
       "    }\n",
       "</style>\n",
       "<table border=\"1\" class=\"dataframe\">\n",
       "  <thead>\n",
       "    <tr style=\"text-align: right;\">\n",
       "      <th></th>\n",
       "      <th>ID</th>\n",
       "      <th>Zip_Code</th>\n",
       "      <th>Town_Code</th>\n",
       "      <th>Town</th>\n",
       "      <th>Region_Code</th>\n",
       "      <th>Region</th>\n",
       "    </tr>\n",
       "  </thead>\n",
       "  <tbody>\n",
       "    <tr>\n",
       "      <th>0</th>\n",
       "      <td>1</td>\n",
       "      <td>8630</td>\n",
       "      <td>80018</td>\n",
       "      <td>Abrera</td>\n",
       "      <td>11.0</td>\n",
       "      <td>Baix Llobregat</td>\n",
       "    </tr>\n",
       "    <tr>\n",
       "      <th>1</th>\n",
       "      <td>2</td>\n",
       "      <td>8256</td>\n",
       "      <td>80023</td>\n",
       "      <td>Aguilar de Segarra</td>\n",
       "      <td>7.0</td>\n",
       "      <td>Bages</td>\n",
       "    </tr>\n",
       "    <tr>\n",
       "      <th>2</th>\n",
       "      <td>3</td>\n",
       "      <td>8281</td>\n",
       "      <td>80023</td>\n",
       "      <td>Aguilar de Segarra</td>\n",
       "      <td>7.0</td>\n",
       "      <td>Bages</td>\n",
       "    </tr>\n",
       "    <tr>\n",
       "      <th>3</th>\n",
       "      <td>4</td>\n",
       "      <td>8328</td>\n",
       "      <td>80039</td>\n",
       "      <td>Alella</td>\n",
       "      <td>21.0</td>\n",
       "      <td>Maresme</td>\n",
       "    </tr>\n",
       "    <tr>\n",
       "      <th>4</th>\n",
       "      <td>5</td>\n",
       "      <td>8587</td>\n",
       "      <td>80044</td>\n",
       "      <td>Alpens</td>\n",
       "      <td>24.0</td>\n",
       "      <td>Osona</td>\n",
       "    </tr>\n",
       "  </tbody>\n",
       "</table>\n",
       "</div>"
      ],
      "text/plain": [
       "   ID  Zip_Code  Town_Code                Town  Region_Code          Region\n",
       "0   1      8630      80018              Abrera         11.0  Baix Llobregat\n",
       "1   2      8256      80023  Aguilar de Segarra          7.0           Bages\n",
       "2   3      8281      80023  Aguilar de Segarra          7.0           Bages\n",
       "3   4      8328      80039              Alella         21.0         Maresme\n",
       "4   5      8587      80044              Alpens         24.0           Osona"
      ]
     },
     "execution_count": 7,
     "metadata": {},
     "output_type": "execute_result"
    }
   ],
   "source": [
    "merged.head()"
   ]
  },
  {
   "cell_type": "code",
   "execution_count": 8,
   "id": "1d8b6846",
   "metadata": {},
   "outputs": [
    {
     "data": {
      "text/plain": [
       "(1135, 6)"
      ]
     },
     "execution_count": 8,
     "metadata": {},
     "output_type": "execute_result"
    }
   ],
   "source": [
    "merged.shape"
   ]
  },
  {
   "cell_type": "code",
   "execution_count": 9,
   "id": "5ad8b25c",
   "metadata": {},
   "outputs": [
    {
     "data": {
      "text/plain": [
       "ID               int64\n",
       "Zip_Code         int64\n",
       "Town_Code        int64\n",
       "Town            object\n",
       "Region_Code    float64\n",
       "Region          object\n",
       "dtype: object"
      ]
     },
     "execution_count": 9,
     "metadata": {},
     "output_type": "execute_result"
    }
   ],
   "source": [
    "merged.dtypes"
   ]
  },
  {
   "cell_type": "code",
   "execution_count": 10,
   "id": "124da971",
   "metadata": {},
   "outputs": [],
   "source": [
    "#merged.to_csv('ziptoregion.csv', encoding='utf-8')"
   ]
  },
  {
   "cell_type": "markdown",
   "id": "1e4e5f13",
   "metadata": {},
   "source": [
    "### Join the 2 dataframes to get Region Code and Region Name in the Company Dataframe"
   ]
  },
  {
   "cell_type": "code",
   "execution_count": 11,
   "id": "999c61a4",
   "metadata": {},
   "outputs": [],
   "source": [
    "df = clean.join_zip_to_company('../data/cleancompaniesnoregion.csv', '../data/ziptoregion.csv')"
   ]
  },
  {
   "cell_type": "code",
   "execution_count": 12,
   "id": "6c702262",
   "metadata": {},
   "outputs": [
    {
     "data": {
      "text/plain": [
       "(65066, 18)"
      ]
     },
     "execution_count": 12,
     "metadata": {},
     "output_type": "execute_result"
    }
   ],
   "source": [
    "df.shape"
   ]
  },
  {
   "cell_type": "code",
   "execution_count": 13,
   "id": "7350280a",
   "metadata": {},
   "outputs": [
    {
     "data": {
      "text/html": [
       "<div>\n",
       "<style scoped>\n",
       "    .dataframe tbody tr th:only-of-type {\n",
       "        vertical-align: middle;\n",
       "    }\n",
       "\n",
       "    .dataframe tbody tr th {\n",
       "        vertical-align: top;\n",
       "    }\n",
       "\n",
       "    .dataframe thead th {\n",
       "        text-align: right;\n",
       "    }\n",
       "</style>\n",
       "<table border=\"1\" class=\"dataframe\">\n",
       "  <thead>\n",
       "    <tr style=\"text-align: right;\">\n",
       "      <th></th>\n",
       "      <th>Name</th>\n",
       "      <th>Activity_Code</th>\n",
       "      <th>Zip_Code</th>\n",
       "      <th>Province</th>\n",
       "      <th>Revenue(k)</th>\n",
       "      <th>EBITDA(k)</th>\n",
       "      <th>Net_Income(k)</th>\n",
       "      <th>Total_Assets(k)</th>\n",
       "      <th>Equity(k)</th>\n",
       "      <th>Employees</th>\n",
       "      <th>Liabilities(k)</th>\n",
       "      <th>Net_Income_Margin(%)</th>\n",
       "      <th>EBITDA_Margin(%)</th>\n",
       "      <th>Debt_Ratio(%)</th>\n",
       "      <th>Industry</th>\n",
       "      <th>Town</th>\n",
       "      <th>Region_Code</th>\n",
       "      <th>Region</th>\n",
       "    </tr>\n",
       "  </thead>\n",
       "  <tbody>\n",
       "    <tr>\n",
       "      <th>0</th>\n",
       "      <td>SEAT SA</td>\n",
       "      <td>2910</td>\n",
       "      <td>08760</td>\n",
       "      <td>Barcelona</td>\n",
       "      <td>11423000</td>\n",
       "      <td>746700</td>\n",
       "      <td>345600</td>\n",
       "      <td>5843000</td>\n",
       "      <td>1991400</td>\n",
       "      <td>14667</td>\n",
       "      <td>3851600</td>\n",
       "      <td>3.025475</td>\n",
       "      <td>6.536812</td>\n",
       "      <td>65.918193</td>\n",
       "      <td>Manufacturing</td>\n",
       "      <td>Martorell</td>\n",
       "      <td>11</td>\n",
       "      <td>Baix Llobregat</td>\n",
       "    </tr>\n",
       "    <tr>\n",
       "      <th>1</th>\n",
       "      <td>LIDL SUPERMERCADOS SAU</td>\n",
       "      <td>4711</td>\n",
       "      <td>08110</td>\n",
       "      <td>Barcelona</td>\n",
       "      <td>4443165</td>\n",
       "      <td>362517</td>\n",
       "      <td>172642</td>\n",
       "      <td>2921430</td>\n",
       "      <td>1175303</td>\n",
       "      <td>11689</td>\n",
       "      <td>1746127</td>\n",
       "      <td>3.885564</td>\n",
       "      <td>8.158981</td>\n",
       "      <td>59.769599</td>\n",
       "      <td>Wholesale &amp; Retail Trade; Repair of Vehicles</td>\n",
       "      <td>Montcada i Reixac</td>\n",
       "      <td>40</td>\n",
       "      <td>Vallès Occidental</td>\n",
       "    </tr>\n",
       "    <tr>\n",
       "      <th>2</th>\n",
       "      <td>VOLKSWAGEN GROUP ESPAÑA DISTRIBUCION SA.</td>\n",
       "      <td>4511</td>\n",
       "      <td>08820</td>\n",
       "      <td>Barcelona</td>\n",
       "      <td>3991886</td>\n",
       "      <td>42720</td>\n",
       "      <td>20355</td>\n",
       "      <td>1785219</td>\n",
       "      <td>137196</td>\n",
       "      <td>439</td>\n",
       "      <td>1648023</td>\n",
       "      <td>0.509909</td>\n",
       "      <td>1.070171</td>\n",
       "      <td>92.314892</td>\n",
       "      <td>Wholesale &amp; Retail Trade; Repair of Vehicles</td>\n",
       "      <td>Prat de Llobregat, el</td>\n",
       "      <td>11</td>\n",
       "      <td>Baix Llobregat</td>\n",
       "    </tr>\n",
       "    <tr>\n",
       "      <th>3</th>\n",
       "      <td>BUNGE IBERICA SA</td>\n",
       "      <td>4621</td>\n",
       "      <td>08960</td>\n",
       "      <td>Barcelona</td>\n",
       "      <td>3065238</td>\n",
       "      <td>1595</td>\n",
       "      <td>42700</td>\n",
       "      <td>710088</td>\n",
       "      <td>374977</td>\n",
       "      <td>429</td>\n",
       "      <td>335111</td>\n",
       "      <td>1.393040</td>\n",
       "      <td>0.052035</td>\n",
       "      <td>47.192883</td>\n",
       "      <td>Wholesale &amp; Retail Trade; Repair of Vehicles</td>\n",
       "      <td>Sant Just Desvern</td>\n",
       "      <td>11</td>\n",
       "      <td>Baix Llobregat</td>\n",
       "    </tr>\n",
       "    <tr>\n",
       "      <th>4</th>\n",
       "      <td>VUELING AIRLINES, SA</td>\n",
       "      <td>5110</td>\n",
       "      <td>08820</td>\n",
       "      <td>Barcelona</td>\n",
       "      <td>2481046</td>\n",
       "      <td>166733</td>\n",
       "      <td>132237</td>\n",
       "      <td>2565643</td>\n",
       "      <td>384408</td>\n",
       "      <td>4438</td>\n",
       "      <td>2181235</td>\n",
       "      <td>5.329889</td>\n",
       "      <td>6.720270</td>\n",
       "      <td>85.017089</td>\n",
       "      <td>Transportation &amp; Storage</td>\n",
       "      <td>Prat de Llobregat, el</td>\n",
       "      <td>11</td>\n",
       "      <td>Baix Llobregat</td>\n",
       "    </tr>\n",
       "  </tbody>\n",
       "</table>\n",
       "</div>"
      ],
      "text/plain": [
       "                                       Name Activity_Code Zip_Code   Province  \\\n",
       "0                                   SEAT SA          2910    08760  Barcelona   \n",
       "1                    LIDL SUPERMERCADOS SAU          4711    08110  Barcelona   \n",
       "2  VOLKSWAGEN GROUP ESPAÑA DISTRIBUCION SA.          4511    08820  Barcelona   \n",
       "3                          BUNGE IBERICA SA          4621    08960  Barcelona   \n",
       "4                      VUELING AIRLINES, SA          5110    08820  Barcelona   \n",
       "\n",
       "   Revenue(k)  EBITDA(k)  Net_Income(k)  Total_Assets(k)  Equity(k)  \\\n",
       "0    11423000     746700         345600          5843000    1991400   \n",
       "1     4443165     362517         172642          2921430    1175303   \n",
       "2     3991886      42720          20355          1785219     137196   \n",
       "3     3065238       1595          42700           710088     374977   \n",
       "4     2481046     166733         132237          2565643     384408   \n",
       "\n",
       "   Employees  Liabilities(k)  Net_Income_Margin(%)  EBITDA_Margin(%)  \\\n",
       "0      14667         3851600              3.025475          6.536812   \n",
       "1      11689         1746127              3.885564          8.158981   \n",
       "2        439         1648023              0.509909          1.070171   \n",
       "3        429          335111              1.393040          0.052035   \n",
       "4       4438         2181235              5.329889          6.720270   \n",
       "\n",
       "   Debt_Ratio(%)                                      Industry  \\\n",
       "0      65.918193                                 Manufacturing   \n",
       "1      59.769599  Wholesale & Retail Trade; Repair of Vehicles   \n",
       "2      92.314892  Wholesale & Retail Trade; Repair of Vehicles   \n",
       "3      47.192883  Wholesale & Retail Trade; Repair of Vehicles   \n",
       "4      85.017089                      Transportation & Storage   \n",
       "\n",
       "                    Town Region_Code             Region  \n",
       "0              Martorell          11     Baix Llobregat  \n",
       "1      Montcada i Reixac          40  Vallès Occidental  \n",
       "2  Prat de Llobregat, el          11     Baix Llobregat  \n",
       "3      Sant Just Desvern          11     Baix Llobregat  \n",
       "4  Prat de Llobregat, el          11     Baix Llobregat  "
      ]
     },
     "execution_count": 13,
     "metadata": {},
     "output_type": "execute_result"
    }
   ],
   "source": [
    "df.head()"
   ]
  },
  {
   "cell_type": "code",
   "execution_count": 14,
   "id": "e5266061",
   "metadata": {
    "scrolled": true
   },
   "outputs": [
    {
     "data": {
      "text/plain": [
       "Name                     object\n",
       "Activity_Code            object\n",
       "Zip_Code                 object\n",
       "Province                 object\n",
       "Revenue(k)                int64\n",
       "EBITDA(k)                 int64\n",
       "Net_Income(k)             int64\n",
       "Total_Assets(k)           int64\n",
       "Equity(k)                 int64\n",
       "Employees                 int64\n",
       "Liabilities(k)            int64\n",
       "Net_Income_Margin(%)    float64\n",
       "EBITDA_Margin(%)        float64\n",
       "Debt_Ratio(%)           float64\n",
       "Industry                 object\n",
       "Town                     object\n",
       "Region_Code              object\n",
       "Region                   object\n",
       "dtype: object"
      ]
     },
     "execution_count": 14,
     "metadata": {},
     "output_type": "execute_result"
    }
   ],
   "source": [
    "df.dtypes"
   ]
  },
  {
   "cell_type": "code",
   "execution_count": 15,
   "id": "0988add7",
   "metadata": {},
   "outputs": [
    {
     "data": {
      "text/html": [
       "<div>\n",
       "<style scoped>\n",
       "    .dataframe tbody tr th:only-of-type {\n",
       "        vertical-align: middle;\n",
       "    }\n",
       "\n",
       "    .dataframe tbody tr th {\n",
       "        vertical-align: top;\n",
       "    }\n",
       "\n",
       "    .dataframe thead th {\n",
       "        text-align: right;\n",
       "    }\n",
       "</style>\n",
       "<table border=\"1\" class=\"dataframe\">\n",
       "  <thead>\n",
       "    <tr style=\"text-align: right;\">\n",
       "      <th></th>\n",
       "      <th>Name</th>\n",
       "      <th>Activity_Code</th>\n",
       "      <th>Zip_Code</th>\n",
       "      <th>Province</th>\n",
       "      <th>Revenue(k)</th>\n",
       "      <th>EBITDA(k)</th>\n",
       "      <th>Net_Income(k)</th>\n",
       "      <th>Total_Assets(k)</th>\n",
       "      <th>Equity(k)</th>\n",
       "      <th>Employees</th>\n",
       "      <th>Liabilities(k)</th>\n",
       "      <th>Net_Income_Margin(%)</th>\n",
       "      <th>EBITDA_Margin(%)</th>\n",
       "      <th>Debt_Ratio(%)</th>\n",
       "      <th>Industry</th>\n",
       "      <th>Town</th>\n",
       "      <th>Region_Code</th>\n",
       "      <th>Region</th>\n",
       "    </tr>\n",
       "  </thead>\n",
       "  <tbody>\n",
       "    <tr>\n",
       "      <th>0</th>\n",
       "      <td>SEAT SA</td>\n",
       "      <td>2910</td>\n",
       "      <td>08760</td>\n",
       "      <td>Barcelona</td>\n",
       "      <td>11423000</td>\n",
       "      <td>746700</td>\n",
       "      <td>345600</td>\n",
       "      <td>5843000</td>\n",
       "      <td>1991400</td>\n",
       "      <td>14667</td>\n",
       "      <td>3851600</td>\n",
       "      <td>3.025475</td>\n",
       "      <td>6.536812</td>\n",
       "      <td>65.918193</td>\n",
       "      <td>Manufacturing</td>\n",
       "      <td>Martorell</td>\n",
       "      <td>11</td>\n",
       "      <td>Baix Llobregat</td>\n",
       "    </tr>\n",
       "    <tr>\n",
       "      <th>1</th>\n",
       "      <td>LIDL SUPERMERCADOS SAU</td>\n",
       "      <td>4711</td>\n",
       "      <td>08110</td>\n",
       "      <td>Barcelona</td>\n",
       "      <td>4443165</td>\n",
       "      <td>362517</td>\n",
       "      <td>172642</td>\n",
       "      <td>2921430</td>\n",
       "      <td>1175303</td>\n",
       "      <td>11689</td>\n",
       "      <td>1746127</td>\n",
       "      <td>3.885564</td>\n",
       "      <td>8.158981</td>\n",
       "      <td>59.769599</td>\n",
       "      <td>Wholesale &amp; Retail Trade; Repair of Vehicles</td>\n",
       "      <td>Montcada i Reixac</td>\n",
       "      <td>40</td>\n",
       "      <td>Vallès Occidental</td>\n",
       "    </tr>\n",
       "    <tr>\n",
       "      <th>2</th>\n",
       "      <td>VOLKSWAGEN GROUP ESPAÑA DISTRIBUCION SA.</td>\n",
       "      <td>4511</td>\n",
       "      <td>08820</td>\n",
       "      <td>Barcelona</td>\n",
       "      <td>3991886</td>\n",
       "      <td>42720</td>\n",
       "      <td>20355</td>\n",
       "      <td>1785219</td>\n",
       "      <td>137196</td>\n",
       "      <td>439</td>\n",
       "      <td>1648023</td>\n",
       "      <td>0.509909</td>\n",
       "      <td>1.070171</td>\n",
       "      <td>92.314892</td>\n",
       "      <td>Wholesale &amp; Retail Trade; Repair of Vehicles</td>\n",
       "      <td>Prat de Llobregat, el</td>\n",
       "      <td>11</td>\n",
       "      <td>Baix Llobregat</td>\n",
       "    </tr>\n",
       "    <tr>\n",
       "      <th>3</th>\n",
       "      <td>BUNGE IBERICA SA</td>\n",
       "      <td>4621</td>\n",
       "      <td>08960</td>\n",
       "      <td>Barcelona</td>\n",
       "      <td>3065238</td>\n",
       "      <td>1595</td>\n",
       "      <td>42700</td>\n",
       "      <td>710088</td>\n",
       "      <td>374977</td>\n",
       "      <td>429</td>\n",
       "      <td>335111</td>\n",
       "      <td>1.393040</td>\n",
       "      <td>0.052035</td>\n",
       "      <td>47.192883</td>\n",
       "      <td>Wholesale &amp; Retail Trade; Repair of Vehicles</td>\n",
       "      <td>Sant Just Desvern</td>\n",
       "      <td>11</td>\n",
       "      <td>Baix Llobregat</td>\n",
       "    </tr>\n",
       "    <tr>\n",
       "      <th>4</th>\n",
       "      <td>VUELING AIRLINES, SA</td>\n",
       "      <td>5110</td>\n",
       "      <td>08820</td>\n",
       "      <td>Barcelona</td>\n",
       "      <td>2481046</td>\n",
       "      <td>166733</td>\n",
       "      <td>132237</td>\n",
       "      <td>2565643</td>\n",
       "      <td>384408</td>\n",
       "      <td>4438</td>\n",
       "      <td>2181235</td>\n",
       "      <td>5.329889</td>\n",
       "      <td>6.720270</td>\n",
       "      <td>85.017089</td>\n",
       "      <td>Transportation &amp; Storage</td>\n",
       "      <td>Prat de Llobregat, el</td>\n",
       "      <td>11</td>\n",
       "      <td>Baix Llobregat</td>\n",
       "    </tr>\n",
       "  </tbody>\n",
       "</table>\n",
       "</div>"
      ],
      "text/plain": [
       "                                       Name Activity_Code Zip_Code   Province  \\\n",
       "0                                   SEAT SA          2910    08760  Barcelona   \n",
       "1                    LIDL SUPERMERCADOS SAU          4711    08110  Barcelona   \n",
       "2  VOLKSWAGEN GROUP ESPAÑA DISTRIBUCION SA.          4511    08820  Barcelona   \n",
       "3                          BUNGE IBERICA SA          4621    08960  Barcelona   \n",
       "4                      VUELING AIRLINES, SA          5110    08820  Barcelona   \n",
       "\n",
       "   Revenue(k)  EBITDA(k)  Net_Income(k)  Total_Assets(k)  Equity(k)  \\\n",
       "0    11423000     746700         345600          5843000    1991400   \n",
       "1     4443165     362517         172642          2921430    1175303   \n",
       "2     3991886      42720          20355          1785219     137196   \n",
       "3     3065238       1595          42700           710088     374977   \n",
       "4     2481046     166733         132237          2565643     384408   \n",
       "\n",
       "   Employees  Liabilities(k)  Net_Income_Margin(%)  EBITDA_Margin(%)  \\\n",
       "0      14667         3851600              3.025475          6.536812   \n",
       "1      11689         1746127              3.885564          8.158981   \n",
       "2        439         1648023              0.509909          1.070171   \n",
       "3        429          335111              1.393040          0.052035   \n",
       "4       4438         2181235              5.329889          6.720270   \n",
       "\n",
       "   Debt_Ratio(%)                                      Industry  \\\n",
       "0      65.918193                                 Manufacturing   \n",
       "1      59.769599  Wholesale & Retail Trade; Repair of Vehicles   \n",
       "2      92.314892  Wholesale & Retail Trade; Repair of Vehicles   \n",
       "3      47.192883  Wholesale & Retail Trade; Repair of Vehicles   \n",
       "4      85.017089                      Transportation & Storage   \n",
       "\n",
       "                    Town Region_Code             Region  \n",
       "0              Martorell          11     Baix Llobregat  \n",
       "1      Montcada i Reixac          40  Vallès Occidental  \n",
       "2  Prat de Llobregat, el          11     Baix Llobregat  \n",
       "3      Sant Just Desvern          11     Baix Llobregat  \n",
       "4  Prat de Llobregat, el          11     Baix Llobregat  "
      ]
     },
     "execution_count": 15,
     "metadata": {},
     "output_type": "execute_result"
    }
   ],
   "source": [
    "df.head()"
   ]
  },
  {
   "cell_type": "code",
   "execution_count": 16,
   "id": "911df535",
   "metadata": {},
   "outputs": [
    {
     "data": {
      "text/plain": [
       "(65066, 18)"
      ]
     },
     "execution_count": 16,
     "metadata": {},
     "output_type": "execute_result"
    }
   ],
   "source": [
    "df.shape"
   ]
  },
  {
   "cell_type": "code",
   "execution_count": 17,
   "id": "151c2a74",
   "metadata": {},
   "outputs": [
    {
     "data": {
      "text/plain": [
       "Name                     object\n",
       "Activity_Code            object\n",
       "Zip_Code                 object\n",
       "Province                 object\n",
       "Revenue(k)                int64\n",
       "EBITDA(k)                 int64\n",
       "Net_Income(k)             int64\n",
       "Total_Assets(k)           int64\n",
       "Equity(k)                 int64\n",
       "Employees                 int64\n",
       "Liabilities(k)            int64\n",
       "Net_Income_Margin(%)    float64\n",
       "EBITDA_Margin(%)        float64\n",
       "Debt_Ratio(%)           float64\n",
       "Industry                 object\n",
       "Town                     object\n",
       "Region_Code              object\n",
       "Region                   object\n",
       "dtype: object"
      ]
     },
     "execution_count": 17,
     "metadata": {},
     "output_type": "execute_result"
    }
   ],
   "source": [
    "df.dtypes"
   ]
  },
  {
   "cell_type": "code",
   "execution_count": 10,
   "id": "064c08b5",
   "metadata": {},
   "outputs": [],
   "source": [
    "#df.to_csv('finaldataframe.csv', encoding='utf-8')"
   ]
  },
  {
   "cell_type": "code",
   "execution_count": null,
   "id": "ee11cda3",
   "metadata": {},
   "outputs": [],
   "source": []
  },
  {
   "cell_type": "markdown",
   "id": "343d3401",
   "metadata": {},
   "source": [
    "### Get specific Provinces Dataframes"
   ]
  },
  {
   "cell_type": "code",
   "execution_count": 21,
   "id": "c328ac7d",
   "metadata": {},
   "outputs": [],
   "source": [
    "tarragona = df[df['Province'] == 'Tarragona']"
   ]
  },
  {
   "cell_type": "code",
   "execution_count": 22,
   "id": "ef9a5c56",
   "metadata": {},
   "outputs": [
    {
     "data": {
      "text/plain": [
       "(4585, 18)"
      ]
     },
     "execution_count": 22,
     "metadata": {},
     "output_type": "execute_result"
    }
   ],
   "source": [
    "tarragona.shape"
   ]
  },
  {
   "cell_type": "code",
   "execution_count": 30,
   "id": "00080abe",
   "metadata": {},
   "outputs": [],
   "source": [
    "#tarragona.to_csv('tarragonadataframe.csv', encoding = 'utf-8')"
   ]
  },
  {
   "cell_type": "code",
   "execution_count": 23,
   "id": "45681eac",
   "metadata": {},
   "outputs": [],
   "source": [
    "girona = df[df['Province'] == 'Girona']"
   ]
  },
  {
   "cell_type": "code",
   "execution_count": 24,
   "id": "58cf9e75",
   "metadata": {},
   "outputs": [
    {
     "data": {
      "text/plain": [
       "(7110, 18)"
      ]
     },
     "execution_count": 24,
     "metadata": {},
     "output_type": "execute_result"
    }
   ],
   "source": [
    "girona.shape"
   ]
  },
  {
   "cell_type": "code",
   "execution_count": 31,
   "id": "64f8f0ba",
   "metadata": {},
   "outputs": [],
   "source": [
    "#girona.to_csv('gironadataframe.csv', encoding = 'utf-8')"
   ]
  },
  {
   "cell_type": "code",
   "execution_count": 25,
   "id": "3ab74cf6",
   "metadata": {},
   "outputs": [],
   "source": [
    "barcelona = df[df['Province'] == 'Barcelona']"
   ]
  },
  {
   "cell_type": "code",
   "execution_count": 26,
   "id": "8d1b732c",
   "metadata": {},
   "outputs": [
    {
     "data": {
      "text/plain": [
       "(49360, 18)"
      ]
     },
     "execution_count": 26,
     "metadata": {},
     "output_type": "execute_result"
    }
   ],
   "source": [
    "barcelona.shape"
   ]
  },
  {
   "cell_type": "code",
   "execution_count": 32,
   "id": "9ddad9f4",
   "metadata": {},
   "outputs": [],
   "source": [
    "barcelona.to_csv('barcelonadataframe.csv', encoding = 'utf-8')"
   ]
  },
  {
   "cell_type": "code",
   "execution_count": 28,
   "id": "df4bc61c",
   "metadata": {},
   "outputs": [],
   "source": [
    "lleida = df[df['Province'] == 'Lleida']"
   ]
  },
  {
   "cell_type": "code",
   "execution_count": 29,
   "id": "4e740cc5",
   "metadata": {},
   "outputs": [
    {
     "data": {
      "text/plain": [
       "(4011, 18)"
      ]
     },
     "execution_count": 29,
     "metadata": {},
     "output_type": "execute_result"
    }
   ],
   "source": [
    "lleida.shape"
   ]
  },
  {
   "cell_type": "code",
   "execution_count": 33,
   "id": "755a8695",
   "metadata": {},
   "outputs": [],
   "source": [
    "lleida.to_csv('lleidadataframe.csv', encoding = 'utf-8')"
   ]
  },
  {
   "cell_type": "code",
   "execution_count": null,
   "id": "9319fb37",
   "metadata": {},
   "outputs": [],
   "source": []
  },
  {
   "cell_type": "code",
   "execution_count": 34,
   "id": "871162ef",
   "metadata": {},
   "outputs": [
    {
     "data": {
      "text/plain": [
       "(65066, 18)"
      ]
     },
     "execution_count": 34,
     "metadata": {},
     "output_type": "execute_result"
    }
   ],
   "source": [
    "df.shape"
   ]
  },
  {
   "cell_type": "markdown",
   "id": "41152542",
   "metadata": {},
   "source": [
    "### Get Histogram for Revenue"
   ]
  },
  {
   "cell_type": "code",
   "execution_count": 44,
   "id": "38d9c2c9",
   "metadata": {},
   "outputs": [
    {
     "data": {
      "text/plain": [
       "[Text(0.5, 1.0, 'Revenue(k) Histogram for Companies with < 5M Revenue')]"
      ]
     },
     "execution_count": 44,
     "metadata": {},
     "output_type": "execute_result"
    },
    {
     "data": {
      "image/png": "[encoded data removed]",
      "text/plain": [
       "<Figure size 432x288 with 1 Axes>"
      ]
     },
     "metadata": {
      "needs_background": "light"
     },
     "output_type": "display_data"
    }
   ],
   "source": [
    "df2 = df[df['Revenue(k)'] < 5000]\n",
    "sns.histplot(df2, x='Revenue(k)').set(title = 'Revenue(k) Histogram for Companies with < 5M Revenue')\n"
   ]
  },
  {
   "cell_type": "code",
   "execution_count": null,
   "id": "e9187dfe",
   "metadata": {},
   "outputs": [],
   "source": []
  }
 ],
 "metadata": {
  "kernelspec": {
   "display_name": "Python 3 (ipykernel)",
   "language": "python",
   "name": "python3"
  },
  "language_info": {
   "codemirror_mode": {
    "name": "ipython",
    "version": 3
   },
   "file_extension": ".py",
   "mimetype": "text/x-python",
   "name": "python",
   "nbconvert_exporter": "python",
   "pygments_lexer": "ipython3",
   "version": "3.9.12"
  }
 },
 "nbformat": 4,
 "nbformat_minor": 5
}
