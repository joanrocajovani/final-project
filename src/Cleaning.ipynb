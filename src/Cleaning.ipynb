{
 "cells": [
  {
   "cell_type": "code",
   "execution_count": 1,
   "id": "a443351f",
   "metadata": {},
   "outputs": [],
   "source": [
    "import pandas as pd\n",
    "import numpy as np"
   ]
  },
  {
   "cell_type": "code",
   "execution_count": 289,
   "id": "0c49d3a1",
   "metadata": {},
   "outputs": [
    {
     "name": "stdout",
     "output_type": "stream",
     "text": [
      "WARNING *** file size (11645737) not 512 + multiple of sector size (512)\n"
     ]
    }
   ],
   "source": [
    "df = pd.read_excel('../data/Catalunya.xls', sheet_name=1)"
   ]
  },
  {
   "cell_type": "code",
   "execution_count": 290,
   "id": "5d1d516b",
   "metadata": {},
   "outputs": [
    {
     "data": {
      "text/html": [
       "<div>\n",
       "<style scoped>\n",
       "    .dataframe tbody tr th:only-of-type {\n",
       "        vertical-align: middle;\n",
       "    }\n",
       "\n",
       "    .dataframe tbody tr th {\n",
       "        vertical-align: top;\n",
       "    }\n",
       "\n",
       "    .dataframe thead th {\n",
       "        text-align: right;\n",
       "    }\n",
       "</style>\n",
       "<table border=\"1\" class=\"dataframe\">\n",
       "  <thead>\n",
       "    <tr style=\"text-align: right;\">\n",
       "      <th></th>\n",
       "      <th>Unnamed: 0</th>\n",
       "      <th>Company Name</th>\n",
       "      <th>CNAE 2009 Primary Code</th>\n",
       "      <th>Postal Code</th>\n",
       "      <th>Province</th>\n",
       "      <th>Operating revenue / turnover\\nth EUR\\n2019</th>\n",
       "      <th>EBITDA\\nth EUR\\n2019</th>\n",
       "      <th>Net income\\nth EUR\\n2019</th>\n",
       "      <th>Total assets\\nth EUR\\n2019</th>\n",
       "      <th>Shareholders funds\\nth EUR\\n2019</th>\n",
       "      <th>Number of employees\\n2019</th>\n",
       "    </tr>\n",
       "  </thead>\n",
       "  <tbody>\n",
       "    <tr>\n",
       "      <th>0</th>\n",
       "      <td>1.0</td>\n",
       "      <td>SEAT SA</td>\n",
       "      <td>2910.0</td>\n",
       "      <td>8760.0</td>\n",
       "      <td>Barcelona</td>\n",
       "      <td>11423000</td>\n",
       "      <td>746700</td>\n",
       "      <td>345600</td>\n",
       "      <td>5843000</td>\n",
       "      <td>1991400</td>\n",
       "      <td>14667</td>\n",
       "    </tr>\n",
       "    <tr>\n",
       "      <th>1</th>\n",
       "      <td>2.0</td>\n",
       "      <td>FOMENTO DE CONSTRUCCIONES Y CONTRATAS SA</td>\n",
       "      <td>7010.0</td>\n",
       "      <td>8007.0</td>\n",
       "      <td>Barcelona</td>\n",
       "      <td>6490558</td>\n",
       "      <td>960723</td>\n",
       "      <td>339924</td>\n",
       "      <td>12574140</td>\n",
       "      <td>2807561</td>\n",
       "      <td>58432</td>\n",
       "    </tr>\n",
       "    <tr>\n",
       "      <th>2</th>\n",
       "      <td>3.0</td>\n",
       "      <td>BAYER HISPANIA SL</td>\n",
       "      <td>2110.0</td>\n",
       "      <td>8970.0</td>\n",
       "      <td>Barcelona</td>\n",
       "      <td>n.a.</td>\n",
       "      <td>n.a.</td>\n",
       "      <td>n.a.</td>\n",
       "      <td>n.a.</td>\n",
       "      <td>n.a.</td>\n",
       "      <td>n.a.</td>\n",
       "    </tr>\n",
       "    <tr>\n",
       "      <th>3</th>\n",
       "      <td>4.0</td>\n",
       "      <td>VIDACAIXA GRUPO SA (EXTINGUIDA)</td>\n",
       "      <td>6511.0</td>\n",
       "      <td>8014.0</td>\n",
       "      <td>Barcelona</td>\n",
       "      <td>n.a.</td>\n",
       "      <td>n.a.</td>\n",
       "      <td>n.a.</td>\n",
       "      <td>n.a.</td>\n",
       "      <td>n.a.</td>\n",
       "      <td>n.a.</td>\n",
       "    </tr>\n",
       "    <tr>\n",
       "      <th>4</th>\n",
       "      <td>5.0</td>\n",
       "      <td>GRIFOLS SA</td>\n",
       "      <td>6420.0</td>\n",
       "      <td>8022.0</td>\n",
       "      <td>Barcelona</td>\n",
       "      <td>5124497</td>\n",
       "      <td>1433820</td>\n",
       "      <td>648644</td>\n",
       "      <td>15542611</td>\n",
       "      <td>6845768</td>\n",
       "      <td>21147</td>\n",
       "    </tr>\n",
       "  </tbody>\n",
       "</table>\n",
       "</div>"
      ],
      "text/plain": [
       "   Unnamed: 0                              Company Name  \\\n",
       "0         1.0                                   SEAT SA   \n",
       "1         2.0  FOMENTO DE CONSTRUCCIONES Y CONTRATAS SA   \n",
       "2         3.0                         BAYER HISPANIA SL   \n",
       "3         4.0           VIDACAIXA GRUPO SA (EXTINGUIDA)   \n",
       "4         5.0                                GRIFOLS SA   \n",
       "\n",
       "   CNAE 2009 Primary Code  Postal Code   Province  \\\n",
       "0                  2910.0       8760.0  Barcelona   \n",
       "1                  7010.0       8007.0  Barcelona   \n",
       "2                  2110.0       8970.0  Barcelona   \n",
       "3                  6511.0       8014.0  Barcelona   \n",
       "4                  6420.0       8022.0  Barcelona   \n",
       "\n",
       "  Operating revenue / turnover\\nth EUR\\n2019 EBITDA\\nth EUR\\n2019  \\\n",
       "0                                   11423000               746700   \n",
       "1                                    6490558               960723   \n",
       "2                                       n.a.                 n.a.   \n",
       "3                                       n.a.                 n.a.   \n",
       "4                                    5124497              1433820   \n",
       "\n",
       "  Net income\\nth EUR\\n2019 Total assets\\nth EUR\\n2019  \\\n",
       "0                   345600                    5843000   \n",
       "1                   339924                   12574140   \n",
       "2                     n.a.                       n.a.   \n",
       "3                     n.a.                       n.a.   \n",
       "4                   648644                   15542611   \n",
       "\n",
       "  Shareholders funds\\nth EUR\\n2019 Number of employees\\n2019  \n",
       "0                          1991400                     14667  \n",
       "1                          2807561                     58432  \n",
       "2                             n.a.                      n.a.  \n",
       "3                             n.a.                      n.a.  \n",
       "4                          6845768                     21147  "
      ]
     },
     "execution_count": 290,
     "metadata": {},
     "output_type": "execute_result"
    }
   ],
   "source": [
    "df.head()"
   ]
  },
  {
   "cell_type": "code",
   "execution_count": 291,
   "id": "102ec032",
   "metadata": {},
   "outputs": [],
   "source": [
    "#Drop the Unnamed Column"
   ]
  },
  {
   "cell_type": "code",
   "execution_count": 292,
   "id": "f55053db",
   "metadata": {},
   "outputs": [],
   "source": [
    "df.drop(['Unnamed: 0'], axis = 1, inplace = True)"
   ]
  },
  {
   "cell_type": "code",
   "execution_count": 293,
   "id": "46c1cd6f",
   "metadata": {},
   "outputs": [],
   "source": [
    "#Now we change the name of the columns"
   ]
  },
  {
   "cell_type": "code",
   "execution_count": 294,
   "id": "549496bc",
   "metadata": {},
   "outputs": [],
   "source": [
    "cols = ['Name', 'Activity_Code', 'Postal_Code', 'Province', 'Revenue', 'EBITDA', 'Net_Income', 'Total_Assets', 'Equity', 'Employees']"
   ]
  },
  {
   "cell_type": "code",
   "execution_count": 295,
   "id": "f39389e9",
   "metadata": {
    "scrolled": true
   },
   "outputs": [],
   "source": [
    "df.columns = cols"
   ]
  },
  {
   "cell_type": "code",
   "execution_count": 296,
   "id": "9431a77a",
   "metadata": {},
   "outputs": [],
   "source": [
    "#We delete all companies that are extinguished"
   ]
  },
  {
   "cell_type": "code",
   "execution_count": 297,
   "id": "a151d9d8",
   "metadata": {},
   "outputs": [
    {
     "name": "stderr",
     "output_type": "stream",
     "text": [
      "C:\\Users\\joanr\\AppData\\Local\\Temp\\ipykernel_25616\\1228750104.py:2: UserWarning: This pattern is interpreted as a regular expression, and has match groups. To actually get the groups, use str.extract.\n",
      "  filter = df['Name'].str.contains(patternDel)\n"
     ]
    }
   ],
   "source": [
    "patternDel = \"(EXTINGUIDA)\"\n",
    "filter = df['Name'].str.contains(patternDel)\n",
    "df = df[~filter]"
   ]
  },
  {
   "cell_type": "code",
   "execution_count": 298,
   "id": "01397b56",
   "metadata": {},
   "outputs": [],
   "source": [
    "#Changing the string n.a. for a nan value"
   ]
  },
  {
   "cell_type": "code",
   "execution_count": 299,
   "id": "fd27b041",
   "metadata": {
    "scrolled": true
   },
   "outputs": [],
   "source": [
    "df.replace('n.a.', np.nan, inplace = True)"
   ]
  },
  {
   "cell_type": "code",
   "execution_count": 300,
   "id": "58c35845",
   "metadata": {},
   "outputs": [],
   "source": [
    "#We change the string Export Limit reached for nan value"
   ]
  },
  {
   "cell_type": "code",
   "execution_count": 301,
   "id": "da8a4f17",
   "metadata": {},
   "outputs": [],
   "source": [
    "df.replace('Financial Export limit reached', np.nan, inplace = True)"
   ]
  },
  {
   "cell_type": "code",
   "execution_count": 302,
   "id": "6bf1e6cf",
   "metadata": {},
   "outputs": [],
   "source": [
    "#We drop all nan values"
   ]
  },
  {
   "cell_type": "code",
   "execution_count": 303,
   "id": "f44a39ef",
   "metadata": {},
   "outputs": [],
   "source": [
    "df.dropna(axis = 0, inplace = True)"
   ]
  },
  {
   "cell_type": "code",
   "execution_count": 304,
   "id": "48666ed4",
   "metadata": {},
   "outputs": [],
   "source": [
    "#We keep the companies where the revenue is higher than 5 million"
   ]
  },
  {
   "cell_type": "code",
   "execution_count": 305,
   "id": "62272044",
   "metadata": {},
   "outputs": [],
   "source": [
    "df = df[df['Revenue'] > 5000 ]"
   ]
  },
  {
   "cell_type": "code",
   "execution_count": 306,
   "id": "5eb9e830",
   "metadata": {},
   "outputs": [
    {
     "data": {
      "text/plain": [
       "(7779, 10)"
      ]
     },
     "execution_count": 306,
     "metadata": {},
     "output_type": "execute_result"
    }
   ],
   "source": [
    "df.shape"
   ]
  },
  {
   "cell_type": "code",
   "execution_count": 307,
   "id": "57c1a2e7",
   "metadata": {},
   "outputs": [],
   "source": [
    "#Change the floats for Revenue, EBITDA, Net Income, Total Assets and Equity for integers "
   ]
  },
  {
   "cell_type": "code",
   "execution_count": 308,
   "id": "b2f5335d",
   "metadata": {},
   "outputs": [],
   "source": [
    "df['Revenue'] = df['Revenue'].astype('int64')\n",
    "df['EBITDA'] = df['EBITDA'].astype('int64')\n",
    "df['Net_Income'] = df['Net_Income'].astype('int64')\n",
    "df['Total_Assets'] = df['Total_Assets'].astype('int64')\n",
    "df['Equity'] = df['Equity'].astype('int64')\n",
    "df['Employees'] = df['Employees'].astype('int64')\n",
    "df['Activity_Code'] = df['Activity_Code'].astype('int64')\n",
    "df['Postal_Code'] = df['Postal_Code'].astype('int64')"
   ]
  },
  {
   "cell_type": "code",
   "execution_count": 309,
   "id": "4bb2e3b9",
   "metadata": {},
   "outputs": [
    {
     "data": {
      "text/html": [
       "<div>\n",
       "<style scoped>\n",
       "    .dataframe tbody tr th:only-of-type {\n",
       "        vertical-align: middle;\n",
       "    }\n",
       "\n",
       "    .dataframe tbody tr th {\n",
       "        vertical-align: top;\n",
       "    }\n",
       "\n",
       "    .dataframe thead th {\n",
       "        text-align: right;\n",
       "    }\n",
       "</style>\n",
       "<table border=\"1\" class=\"dataframe\">\n",
       "  <thead>\n",
       "    <tr style=\"text-align: right;\">\n",
       "      <th></th>\n",
       "      <th>Name</th>\n",
       "      <th>Activity_Code</th>\n",
       "      <th>Postal_Code</th>\n",
       "      <th>Province</th>\n",
       "      <th>Revenue</th>\n",
       "      <th>EBITDA</th>\n",
       "      <th>Net_Income</th>\n",
       "      <th>Total_Assets</th>\n",
       "      <th>Equity</th>\n",
       "      <th>Employees</th>\n",
       "    </tr>\n",
       "  </thead>\n",
       "  <tbody>\n",
       "    <tr>\n",
       "      <th>14969</th>\n",
       "      <td>POBLE ESPANYOL DE MONTJUIC SA</td>\n",
       "      <td>9321</td>\n",
       "      <td>8038</td>\n",
       "      <td>Barcelona</td>\n",
       "      <td>6186</td>\n",
       "      <td>1194</td>\n",
       "      <td>603</td>\n",
       "      <td>5265</td>\n",
       "      <td>3069</td>\n",
       "      <td>46</td>\n",
       "    </tr>\n",
       "    <tr>\n",
       "      <th>14984</th>\n",
       "      <td>PASTRY FACTORY SL.</td>\n",
       "      <td>1072</td>\n",
       "      <td>8192</td>\n",
       "      <td>Barcelona</td>\n",
       "      <td>5515</td>\n",
       "      <td>-974</td>\n",
       "      <td>-1070</td>\n",
       "      <td>8295</td>\n",
       "      <td>-1605</td>\n",
       "      <td>59</td>\n",
       "    </tr>\n",
       "    <tr>\n",
       "      <th>14995</th>\n",
       "      <td>NACAR CENTRE AUTOMOCIO SL</td>\n",
       "      <td>4511</td>\n",
       "      <td>25002</td>\n",
       "      <td>Lleida</td>\n",
       "      <td>5022</td>\n",
       "      <td>-63</td>\n",
       "      <td>-55</td>\n",
       "      <td>1830</td>\n",
       "      <td>1330</td>\n",
       "      <td>8</td>\n",
       "    </tr>\n",
       "    <tr>\n",
       "      <th>14997</th>\n",
       "      <td>GENERAL GALVANICA GIRONINA SL</td>\n",
       "      <td>2932</td>\n",
       "      <td>17080</td>\n",
       "      <td>Girona</td>\n",
       "      <td>6611</td>\n",
       "      <td>1231</td>\n",
       "      <td>545</td>\n",
       "      <td>4850</td>\n",
       "      <td>3674</td>\n",
       "      <td>61</td>\n",
       "    </tr>\n",
       "    <tr>\n",
       "      <th>14999</th>\n",
       "      <td>MAS PINELL HOSTELERIA Y LOGISTICA SL</td>\n",
       "      <td>4711</td>\n",
       "      <td>8022</td>\n",
       "      <td>Barcelona</td>\n",
       "      <td>5188</td>\n",
       "      <td>1061</td>\n",
       "      <td>822</td>\n",
       "      <td>2281</td>\n",
       "      <td>1600</td>\n",
       "      <td>14</td>\n",
       "    </tr>\n",
       "  </tbody>\n",
       "</table>\n",
       "</div>"
      ],
      "text/plain": [
       "                                       Name  Activity_Code  Postal_Code  \\\n",
       "14969         POBLE ESPANYOL DE MONTJUIC SA           9321         8038   \n",
       "14984                    PASTRY FACTORY SL.           1072         8192   \n",
       "14995             NACAR CENTRE AUTOMOCIO SL           4511        25002   \n",
       "14997         GENERAL GALVANICA GIRONINA SL           2932        17080   \n",
       "14999  MAS PINELL HOSTELERIA Y LOGISTICA SL           4711         8022   \n",
       "\n",
       "        Province  Revenue  EBITDA  Net_Income  Total_Assets  Equity  Employees  \n",
       "14969  Barcelona     6186    1194         603          5265    3069         46  \n",
       "14984  Barcelona     5515    -974       -1070          8295   -1605         59  \n",
       "14995     Lleida     5022     -63         -55          1830    1330          8  \n",
       "14997     Girona     6611    1231         545          4850    3674         61  \n",
       "14999  Barcelona     5188    1061         822          2281    1600         14  "
      ]
     },
     "execution_count": 309,
     "metadata": {},
     "output_type": "execute_result"
    }
   ],
   "source": [
    "df.tail()"
   ]
  },
  {
   "cell_type": "code",
   "execution_count": 310,
   "id": "8178288b",
   "metadata": {},
   "outputs": [],
   "source": [
    "df['Liabilities'] = df['Total_Assets'] - df['Equity']"
   ]
  },
  {
   "cell_type": "code",
   "execution_count": 311,
   "id": "ab38dcdd",
   "metadata": {},
   "outputs": [
    {
     "data": {
      "text/html": [
       "<div>\n",
       "<style scoped>\n",
       "    .dataframe tbody tr th:only-of-type {\n",
       "        vertical-align: middle;\n",
       "    }\n",
       "\n",
       "    .dataframe tbody tr th {\n",
       "        vertical-align: top;\n",
       "    }\n",
       "\n",
       "    .dataframe thead th {\n",
       "        text-align: right;\n",
       "    }\n",
       "</style>\n",
       "<table border=\"1\" class=\"dataframe\">\n",
       "  <thead>\n",
       "    <tr style=\"text-align: right;\">\n",
       "      <th></th>\n",
       "      <th>Identificador</th>\n",
       "      <th>Codi postal</th>\n",
       "      <th>Codi municipi</th>\n",
       "      <th>Nom municipi</th>\n",
       "    </tr>\n",
       "  </thead>\n",
       "  <tbody>\n",
       "    <tr>\n",
       "      <th>0</th>\n",
       "      <td>1</td>\n",
       "      <td>8630</td>\n",
       "      <td>80018</td>\n",
       "      <td>Abrera</td>\n",
       "    </tr>\n",
       "    <tr>\n",
       "      <th>1</th>\n",
       "      <td>2</td>\n",
       "      <td>8256</td>\n",
       "      <td>80023</td>\n",
       "      <td>Aguilar de Segarra</td>\n",
       "    </tr>\n",
       "    <tr>\n",
       "      <th>2</th>\n",
       "      <td>3</td>\n",
       "      <td>8281</td>\n",
       "      <td>80023</td>\n",
       "      <td>Aguilar de Segarra</td>\n",
       "    </tr>\n",
       "    <tr>\n",
       "      <th>3</th>\n",
       "      <td>4</td>\n",
       "      <td>8328</td>\n",
       "      <td>80039</td>\n",
       "      <td>Alella</td>\n",
       "    </tr>\n",
       "    <tr>\n",
       "      <th>4</th>\n",
       "      <td>5</td>\n",
       "      <td>8587</td>\n",
       "      <td>80044</td>\n",
       "      <td>Alpens</td>\n",
       "    </tr>\n",
       "  </tbody>\n",
       "</table>\n",
       "</div>"
      ],
      "text/plain": [
       "   Identificador  Codi postal  Codi municipi        Nom municipi\n",
       "0              1         8630          80018              Abrera\n",
       "1              2         8256          80023  Aguilar de Segarra\n",
       "2              3         8281          80023  Aguilar de Segarra\n",
       "3              4         8328          80039              Alella\n",
       "4              5         8587          80044              Alpens"
      ]
     },
     "execution_count": 311,
     "metadata": {},
     "output_type": "execute_result"
    }
   ],
   "source": [
    "x = pd.read_csv('../data/CP_Municipis2.csv')\n",
    "x.head()"
   ]
  },
  {
   "cell_type": "code",
   "execution_count": 312,
   "id": "b9534d51",
   "metadata": {},
   "outputs": [
    {
     "data": {
      "text/html": [
       "<div>\n",
       "<style scoped>\n",
       "    .dataframe tbody tr th:only-of-type {\n",
       "        vertical-align: middle;\n",
       "    }\n",
       "\n",
       "    .dataframe tbody tr th {\n",
       "        vertical-align: top;\n",
       "    }\n",
       "\n",
       "    .dataframe thead th {\n",
       "        text-align: right;\n",
       "    }\n",
       "</style>\n",
       "<table border=\"1\" class=\"dataframe\">\n",
       "  <thead>\n",
       "    <tr style=\"text-align: right;\">\n",
       "      <th></th>\n",
       "      <th>Codi</th>\n",
       "      <th>Nom</th>\n",
       "      <th>Codi comarca</th>\n",
       "      <th>Nom comarca</th>\n",
       "    </tr>\n",
       "  </thead>\n",
       "  <tbody>\n",
       "    <tr>\n",
       "      <th>0</th>\n",
       "      <td>250019</td>\n",
       "      <td>Abella de la Conca</td>\n",
       "      <td>25</td>\n",
       "      <td>Pallars Jussà</td>\n",
       "    </tr>\n",
       "    <tr>\n",
       "      <th>1</th>\n",
       "      <td>80018</td>\n",
       "      <td>Abrera</td>\n",
       "      <td>11</td>\n",
       "      <td>Baix Llobregat</td>\n",
       "    </tr>\n",
       "    <tr>\n",
       "      <th>2</th>\n",
       "      <td>250024</td>\n",
       "      <td>Àger</td>\n",
       "      <td>23</td>\n",
       "      <td>Noguera</td>\n",
       "    </tr>\n",
       "    <tr>\n",
       "      <th>3</th>\n",
       "      <td>250030</td>\n",
       "      <td>Agramunt</td>\n",
       "      <td>38</td>\n",
       "      <td>Urgell</td>\n",
       "    </tr>\n",
       "    <tr>\n",
       "      <th>4</th>\n",
       "      <td>80023</td>\n",
       "      <td>Aguilar de Segarra</td>\n",
       "      <td>7</td>\n",
       "      <td>Bages</td>\n",
       "    </tr>\n",
       "  </tbody>\n",
       "</table>\n",
       "</div>"
      ],
      "text/plain": [
       "     Codi                 Nom  Codi comarca     Nom comarca\n",
       "0  250019  Abella de la Conca            25   Pallars Jussà\n",
       "1   80018              Abrera            11  Baix Llobregat\n",
       "2  250024                Àger            23         Noguera\n",
       "3  250030            Agramunt            38          Urgell\n",
       "4   80023  Aguilar de Segarra             7           Bages"
      ]
     },
     "execution_count": 312,
     "metadata": {},
     "output_type": "execute_result"
    }
   ],
   "source": [
    "y = pd.read_csv('../data/Municipis_Cat3.csv', sep=\";\")\n",
    "y.head()"
   ]
  },
  {
   "cell_type": "code",
   "execution_count": 313,
   "id": "8071bef0",
   "metadata": {},
   "outputs": [],
   "source": [
    "x.rename(columns={'Codi municipi': 'Codi_Municipi'}, inplace = True)"
   ]
  },
  {
   "cell_type": "code",
   "execution_count": 314,
   "id": "5d04fcf6",
   "metadata": {},
   "outputs": [
    {
     "data": {
      "text/plain": [
       "Identificador     int64\n",
       "Codi postal       int64\n",
       "Codi_Municipi     int64\n",
       "Nom municipi     object\n",
       "dtype: object"
      ]
     },
     "execution_count": 314,
     "metadata": {},
     "output_type": "execute_result"
    }
   ],
   "source": [
    "x.dtypes"
   ]
  },
  {
   "cell_type": "code",
   "execution_count": 315,
   "id": "27cbabde",
   "metadata": {
    "scrolled": true
   },
   "outputs": [],
   "source": [
    "y.rename(columns={'Codi': 'Codi_Municipi'}, inplace = True)"
   ]
  },
  {
   "cell_type": "code",
   "execution_count": 316,
   "id": "66e9929e",
   "metadata": {},
   "outputs": [
    {
     "data": {
      "text/plain": [
       "Codi_Municipi     int64\n",
       "Nom              object\n",
       "Codi comarca      int64\n",
       "Nom comarca      object\n",
       "dtype: object"
      ]
     },
     "execution_count": 316,
     "metadata": {},
     "output_type": "execute_result"
    }
   ],
   "source": [
    "y.dtypes"
   ]
  },
  {
   "cell_type": "code",
   "execution_count": 317,
   "id": "0052e86f",
   "metadata": {},
   "outputs": [],
   "source": [
    "x['Codi_Municipi'] = x['Codi_Municipi'].astype('int64')"
   ]
  },
  {
   "cell_type": "code",
   "execution_count": 318,
   "id": "0919ffdb",
   "metadata": {},
   "outputs": [
    {
     "data": {
      "text/plain": [
       "Identificador     int64\n",
       "Codi postal       int64\n",
       "Codi_Municipi     int64\n",
       "Nom municipi     object\n",
       "dtype: object"
      ]
     },
     "execution_count": 318,
     "metadata": {},
     "output_type": "execute_result"
    }
   ],
   "source": [
    "x.dtypes"
   ]
  },
  {
   "cell_type": "code",
   "execution_count": 319,
   "id": "fa2c5d14",
   "metadata": {},
   "outputs": [
    {
     "data": {
      "text/plain": [
       "Codi_Municipi     int64\n",
       "Nom              object\n",
       "Codi comarca      int64\n",
       "Nom comarca      object\n",
       "dtype: object"
      ]
     },
     "execution_count": 319,
     "metadata": {},
     "output_type": "execute_result"
    }
   ],
   "source": [
    "y.dtypes"
   ]
  },
  {
   "cell_type": "code",
   "execution_count": 320,
   "id": "b3ca30b0",
   "metadata": {},
   "outputs": [],
   "source": [
    "merged = x.merge(y, on = 'Codi_Municipi')"
   ]
  },
  {
   "cell_type": "code",
   "execution_count": 321,
   "id": "ba4a877b",
   "metadata": {},
   "outputs": [
    {
     "data": {
      "text/html": [
       "<div>\n",
       "<style scoped>\n",
       "    .dataframe tbody tr th:only-of-type {\n",
       "        vertical-align: middle;\n",
       "    }\n",
       "\n",
       "    .dataframe tbody tr th {\n",
       "        vertical-align: top;\n",
       "    }\n",
       "\n",
       "    .dataframe thead th {\n",
       "        text-align: right;\n",
       "    }\n",
       "</style>\n",
       "<table border=\"1\" class=\"dataframe\">\n",
       "  <thead>\n",
       "    <tr style=\"text-align: right;\">\n",
       "      <th></th>\n",
       "      <th>Identificador</th>\n",
       "      <th>Codi postal</th>\n",
       "      <th>Codi_Municipi</th>\n",
       "      <th>Nom municipi</th>\n",
       "      <th>Nom</th>\n",
       "      <th>Codi comarca</th>\n",
       "      <th>Nom comarca</th>\n",
       "    </tr>\n",
       "  </thead>\n",
       "  <tbody>\n",
       "    <tr>\n",
       "      <th>1315</th>\n",
       "      <td>1316</td>\n",
       "      <td>43206</td>\n",
       "      <td>431233</td>\n",
       "      <td>Reus</td>\n",
       "      <td>Reus</td>\n",
       "      <td>8</td>\n",
       "      <td>Baix Camp</td>\n",
       "    </tr>\n",
       "  </tbody>\n",
       "</table>\n",
       "</div>"
      ],
      "text/plain": [
       "      Identificador  Codi postal  Codi_Municipi Nom municipi   Nom  \\\n",
       "1315           1316        43206         431233         Reus  Reus   \n",
       "\n",
       "      Codi comarca Nom comarca  \n",
       "1315             8   Baix Camp  "
      ]
     },
     "execution_count": 321,
     "metadata": {},
     "output_type": "execute_result"
    }
   ],
   "source": [
    "merged[merged[\"Codi postal\"] == 43206]"
   ]
  },
  {
   "cell_type": "code",
   "execution_count": 322,
   "id": "881b7e7b",
   "metadata": {},
   "outputs": [],
   "source": [
    "merged.rename(columns={'Codi postal': 'Postal_Code', \"Nom comarca\": \"Comarca\"}, inplace = True)"
   ]
  },
  {
   "cell_type": "code",
   "execution_count": 323,
   "id": "70b35691",
   "metadata": {},
   "outputs": [
    {
     "data": {
      "text/html": [
       "<div>\n",
       "<style scoped>\n",
       "    .dataframe tbody tr th:only-of-type {\n",
       "        vertical-align: middle;\n",
       "    }\n",
       "\n",
       "    .dataframe tbody tr th {\n",
       "        vertical-align: top;\n",
       "    }\n",
       "\n",
       "    .dataframe thead th {\n",
       "        text-align: right;\n",
       "    }\n",
       "</style>\n",
       "<table border=\"1\" class=\"dataframe\">\n",
       "  <thead>\n",
       "    <tr style=\"text-align: right;\">\n",
       "      <th></th>\n",
       "      <th>Identificador</th>\n",
       "      <th>Postal_Code</th>\n",
       "      <th>Codi_Municipi</th>\n",
       "      <th>Nom municipi</th>\n",
       "      <th>Nom</th>\n",
       "      <th>Codi comarca</th>\n",
       "      <th>Comarca</th>\n",
       "    </tr>\n",
       "  </thead>\n",
       "  <tbody>\n",
       "    <tr>\n",
       "      <th>0</th>\n",
       "      <td>1</td>\n",
       "      <td>8630</td>\n",
       "      <td>80018</td>\n",
       "      <td>Abrera</td>\n",
       "      <td>Abrera</td>\n",
       "      <td>11</td>\n",
       "      <td>Baix Llobregat</td>\n",
       "    </tr>\n",
       "    <tr>\n",
       "      <th>1</th>\n",
       "      <td>2</td>\n",
       "      <td>8256</td>\n",
       "      <td>80023</td>\n",
       "      <td>Aguilar de Segarra</td>\n",
       "      <td>Aguilar de Segarra</td>\n",
       "      <td>7</td>\n",
       "      <td>Bages</td>\n",
       "    </tr>\n",
       "    <tr>\n",
       "      <th>2</th>\n",
       "      <td>3</td>\n",
       "      <td>8281</td>\n",
       "      <td>80023</td>\n",
       "      <td>Aguilar de Segarra</td>\n",
       "      <td>Aguilar de Segarra</td>\n",
       "      <td>7</td>\n",
       "      <td>Bages</td>\n",
       "    </tr>\n",
       "    <tr>\n",
       "      <th>3</th>\n",
       "      <td>4</td>\n",
       "      <td>8328</td>\n",
       "      <td>80039</td>\n",
       "      <td>Alella</td>\n",
       "      <td>Alella</td>\n",
       "      <td>21</td>\n",
       "      <td>Maresme</td>\n",
       "    </tr>\n",
       "    <tr>\n",
       "      <th>4</th>\n",
       "      <td>5</td>\n",
       "      <td>8587</td>\n",
       "      <td>80044</td>\n",
       "      <td>Alpens</td>\n",
       "      <td>Alpens</td>\n",
       "      <td>24</td>\n",
       "      <td>Osona</td>\n",
       "    </tr>\n",
       "  </tbody>\n",
       "</table>\n",
       "</div>"
      ],
      "text/plain": [
       "   Identificador  Postal_Code  Codi_Municipi        Nom municipi  \\\n",
       "0              1         8630          80018              Abrera   \n",
       "1              2         8256          80023  Aguilar de Segarra   \n",
       "2              3         8281          80023  Aguilar de Segarra   \n",
       "3              4         8328          80039              Alella   \n",
       "4              5         8587          80044              Alpens   \n",
       "\n",
       "                  Nom  Codi comarca         Comarca  \n",
       "0              Abrera            11  Baix Llobregat  \n",
       "1  Aguilar de Segarra             7           Bages  \n",
       "2  Aguilar de Segarra             7           Bages  \n",
       "3              Alella            21         Maresme  \n",
       "4              Alpens            24           Osona  "
      ]
     },
     "execution_count": 323,
     "metadata": {},
     "output_type": "execute_result"
    }
   ],
   "source": [
    "merged.head()"
   ]
  },
  {
   "cell_type": "code",
   "execution_count": 324,
   "id": "e73173f4",
   "metadata": {},
   "outputs": [],
   "source": [
    "df = pd.merge(df,merged[['Postal_Code','Nom','Comarca']],on='Postal_Code', how='left')"
   ]
  },
  {
   "cell_type": "code",
   "execution_count": 325,
   "id": "fcb2f2ac",
   "metadata": {},
   "outputs": [
    {
     "data": {
      "text/html": [
       "<div>\n",
       "<style scoped>\n",
       "    .dataframe tbody tr th:only-of-type {\n",
       "        vertical-align: middle;\n",
       "    }\n",
       "\n",
       "    .dataframe tbody tr th {\n",
       "        vertical-align: top;\n",
       "    }\n",
       "\n",
       "    .dataframe thead th {\n",
       "        text-align: right;\n",
       "    }\n",
       "</style>\n",
       "<table border=\"1\" class=\"dataframe\">\n",
       "  <thead>\n",
       "    <tr style=\"text-align: right;\">\n",
       "      <th></th>\n",
       "      <th>Name</th>\n",
       "      <th>Activity_Code</th>\n",
       "      <th>Postal_Code</th>\n",
       "      <th>Province</th>\n",
       "      <th>Revenue</th>\n",
       "      <th>EBITDA</th>\n",
       "      <th>Net_Income</th>\n",
       "      <th>Total_Assets</th>\n",
       "      <th>Equity</th>\n",
       "      <th>Employees</th>\n",
       "      <th>Liabilities</th>\n",
       "      <th>Nom</th>\n",
       "      <th>Comarca</th>\n",
       "    </tr>\n",
       "  </thead>\n",
       "  <tbody>\n",
       "    <tr>\n",
       "      <th>0</th>\n",
       "      <td>SEAT SA</td>\n",
       "      <td>2910</td>\n",
       "      <td>8760</td>\n",
       "      <td>Barcelona</td>\n",
       "      <td>11423000</td>\n",
       "      <td>746700</td>\n",
       "      <td>345600</td>\n",
       "      <td>5843000</td>\n",
       "      <td>1991400</td>\n",
       "      <td>14667</td>\n",
       "      <td>3851600</td>\n",
       "      <td>Martorell</td>\n",
       "      <td>Baix Llobregat</td>\n",
       "    </tr>\n",
       "    <tr>\n",
       "      <th>1</th>\n",
       "      <td>FOMENTO DE CONSTRUCCIONES Y CONTRATAS SA</td>\n",
       "      <td>7010</td>\n",
       "      <td>8007</td>\n",
       "      <td>Barcelona</td>\n",
       "      <td>6490558</td>\n",
       "      <td>960723</td>\n",
       "      <td>339924</td>\n",
       "      <td>12574140</td>\n",
       "      <td>2807561</td>\n",
       "      <td>58432</td>\n",
       "      <td>9766579</td>\n",
       "      <td>Barcelona</td>\n",
       "      <td>Barcelonès</td>\n",
       "    </tr>\n",
       "    <tr>\n",
       "      <th>2</th>\n",
       "      <td>GRIFOLS SA</td>\n",
       "      <td>6420</td>\n",
       "      <td>8022</td>\n",
       "      <td>Barcelona</td>\n",
       "      <td>5124497</td>\n",
       "      <td>1433820</td>\n",
       "      <td>648644</td>\n",
       "      <td>15542611</td>\n",
       "      <td>6845768</td>\n",
       "      <td>21147</td>\n",
       "      <td>8696843</td>\n",
       "      <td>Barcelona</td>\n",
       "      <td>Barcelonès</td>\n",
       "    </tr>\n",
       "    <tr>\n",
       "      <th>3</th>\n",
       "      <td>LIDL SUPERMERCADOS SAU</td>\n",
       "      <td>4711</td>\n",
       "      <td>8110</td>\n",
       "      <td>Barcelona</td>\n",
       "      <td>4443165</td>\n",
       "      <td>362517</td>\n",
       "      <td>172642</td>\n",
       "      <td>2921430</td>\n",
       "      <td>1175303</td>\n",
       "      <td>11689</td>\n",
       "      <td>1746127</td>\n",
       "      <td>Montcada i Reixac</td>\n",
       "      <td>Vallès Occidental</td>\n",
       "    </tr>\n",
       "    <tr>\n",
       "      <th>4</th>\n",
       "      <td>BUNGE IBERICA SA</td>\n",
       "      <td>4621</td>\n",
       "      <td>8960</td>\n",
       "      <td>Barcelona</td>\n",
       "      <td>3828004</td>\n",
       "      <td>27844</td>\n",
       "      <td>13838</td>\n",
       "      <td>1413173</td>\n",
       "      <td>417189</td>\n",
       "      <td>488</td>\n",
       "      <td>995984</td>\n",
       "      <td>Sant Just Desvern</td>\n",
       "      <td>Baix Llobregat</td>\n",
       "    </tr>\n",
       "  </tbody>\n",
       "</table>\n",
       "</div>"
      ],
      "text/plain": [
       "                                       Name  Activity_Code  Postal_Code  \\\n",
       "0                                   SEAT SA           2910         8760   \n",
       "1  FOMENTO DE CONSTRUCCIONES Y CONTRATAS SA           7010         8007   \n",
       "2                                GRIFOLS SA           6420         8022   \n",
       "3                    LIDL SUPERMERCADOS SAU           4711         8110   \n",
       "4                          BUNGE IBERICA SA           4621         8960   \n",
       "\n",
       "    Province   Revenue   EBITDA  Net_Income  Total_Assets   Equity  Employees  \\\n",
       "0  Barcelona  11423000   746700      345600       5843000  1991400      14667   \n",
       "1  Barcelona   6490558   960723      339924      12574140  2807561      58432   \n",
       "2  Barcelona   5124497  1433820      648644      15542611  6845768      21147   \n",
       "3  Barcelona   4443165   362517      172642       2921430  1175303      11689   \n",
       "4  Barcelona   3828004    27844       13838       1413173   417189        488   \n",
       "\n",
       "   Liabilities                Nom            Comarca  \n",
       "0      3851600          Martorell     Baix Llobregat  \n",
       "1      9766579          Barcelona         Barcelonès  \n",
       "2      8696843          Barcelona         Barcelonès  \n",
       "3      1746127  Montcada i Reixac  Vallès Occidental  \n",
       "4       995984  Sant Just Desvern     Baix Llobregat  "
      ]
     },
     "execution_count": 325,
     "metadata": {},
     "output_type": "execute_result"
    }
   ],
   "source": [
    "df.head()"
   ]
  },
  {
   "cell_type": "code",
   "execution_count": 326,
   "id": "6aeaef2b",
   "metadata": {},
   "outputs": [
    {
     "data": {
      "text/plain": [
       "Name              0\n",
       "Activity_Code     0\n",
       "Postal_Code       0\n",
       "Province          0\n",
       "Revenue           0\n",
       "EBITDA            0\n",
       "Net_Income        0\n",
       "Total_Assets      0\n",
       "Equity            0\n",
       "Employees         0\n",
       "Liabilities       0\n",
       "Nom              34\n",
       "Comarca          34\n",
       "dtype: int64"
      ]
     },
     "execution_count": 326,
     "metadata": {},
     "output_type": "execute_result"
    }
   ],
   "source": [
    "df.isna().sum()"
   ]
  },
  {
   "cell_type": "code",
   "execution_count": 327,
   "id": "456cb411",
   "metadata": {},
   "outputs": [],
   "source": [
    "null = df[df.isna().any(axis=1)]"
   ]
  },
  {
   "cell_type": "code",
   "execution_count": 328,
   "id": "e698b67b",
   "metadata": {},
   "outputs": [
    {
     "data": {
      "text/plain": [
       "array([25190,  8190, 17080], dtype=int64)"
      ]
     },
     "execution_count": 328,
     "metadata": {},
     "output_type": "execute_result"
    }
   ],
   "source": [
    "null['Postal_Code'].unique()"
   ]
  },
  {
   "cell_type": "code",
   "execution_count": 329,
   "id": "95a0ce3d",
   "metadata": {},
   "outputs": [
    {
     "data": {
      "text/html": [
       "<div>\n",
       "<style scoped>\n",
       "    .dataframe tbody tr th:only-of-type {\n",
       "        vertical-align: middle;\n",
       "    }\n",
       "\n",
       "    .dataframe tbody tr th {\n",
       "        vertical-align: top;\n",
       "    }\n",
       "\n",
       "    .dataframe thead th {\n",
       "        text-align: right;\n",
       "    }\n",
       "</style>\n",
       "<table border=\"1\" class=\"dataframe\">\n",
       "  <thead>\n",
       "    <tr style=\"text-align: right;\">\n",
       "      <th></th>\n",
       "      <th>Identificador</th>\n",
       "      <th>Codi postal</th>\n",
       "      <th>Codi_Municipi</th>\n",
       "      <th>Nom municipi</th>\n",
       "    </tr>\n",
       "  </thead>\n",
       "  <tbody>\n",
       "    <tr>\n",
       "      <th>928</th>\n",
       "      <td>929</td>\n",
       "      <td>25191</td>\n",
       "      <td>251207</td>\n",
       "      <td>Lleida</td>\n",
       "    </tr>\n",
       "  </tbody>\n",
       "</table>\n",
       "</div>"
      ],
      "text/plain": [
       "     Identificador  Codi postal  Codi_Municipi Nom municipi\n",
       "928            929        25191         251207       Lleida"
      ]
     },
     "execution_count": 329,
     "metadata": {},
     "output_type": "execute_result"
    }
   ],
   "source": [
    "x[x['Codi postal'] == 25191]"
   ]
  },
  {
   "cell_type": "code",
   "execution_count": 330,
   "id": "b3297471",
   "metadata": {},
   "outputs": [
    {
     "data": {
      "text/html": [
       "<div>\n",
       "<style scoped>\n",
       "    .dataframe tbody tr th:only-of-type {\n",
       "        vertical-align: middle;\n",
       "    }\n",
       "\n",
       "    .dataframe tbody tr th {\n",
       "        vertical-align: top;\n",
       "    }\n",
       "\n",
       "    .dataframe thead th {\n",
       "        text-align: right;\n",
       "    }\n",
       "</style>\n",
       "<table border=\"1\" class=\"dataframe\">\n",
       "  <thead>\n",
       "    <tr style=\"text-align: right;\">\n",
       "      <th></th>\n",
       "      <th>Codi_Municipi</th>\n",
       "      <th>Nom</th>\n",
       "      <th>Codi comarca</th>\n",
       "      <th>Nom comarca</th>\n",
       "    </tr>\n",
       "  </thead>\n",
       "  <tbody>\n",
       "    <tr>\n",
       "      <th>385</th>\n",
       "      <td>251207</td>\n",
       "      <td>Lleida</td>\n",
       "      <td>33</td>\n",
       "      <td>Segrià</td>\n",
       "    </tr>\n",
       "  </tbody>\n",
       "</table>\n",
       "</div>"
      ],
      "text/plain": [
       "     Codi_Municipi     Nom  Codi comarca Nom comarca\n",
       "385         251207  Lleida            33      Segrià"
      ]
     },
     "execution_count": 330,
     "metadata": {},
     "output_type": "execute_result"
    }
   ],
   "source": [
    "y[y['Codi_Municipi'] == 251207]"
   ]
  },
  {
   "cell_type": "code",
   "execution_count": 331,
   "id": "a2f3d889",
   "metadata": {},
   "outputs": [
    {
     "data": {
      "text/html": [
       "<div>\n",
       "<style scoped>\n",
       "    .dataframe tbody tr th:only-of-type {\n",
       "        vertical-align: middle;\n",
       "    }\n",
       "\n",
       "    .dataframe tbody tr th {\n",
       "        vertical-align: top;\n",
       "    }\n",
       "\n",
       "    .dataframe thead th {\n",
       "        text-align: right;\n",
       "    }\n",
       "</style>\n",
       "<table border=\"1\" class=\"dataframe\">\n",
       "  <thead>\n",
       "    <tr style=\"text-align: right;\">\n",
       "      <th></th>\n",
       "      <th>Name</th>\n",
       "      <th>Activity_Code</th>\n",
       "      <th>Postal_Code</th>\n",
       "      <th>Province</th>\n",
       "      <th>Revenue</th>\n",
       "      <th>EBITDA</th>\n",
       "      <th>Net_Income</th>\n",
       "      <th>Total_Assets</th>\n",
       "      <th>Equity</th>\n",
       "      <th>Employees</th>\n",
       "      <th>Liabilities</th>\n",
       "      <th>Nom</th>\n",
       "      <th>Comarca</th>\n",
       "    </tr>\n",
       "  </thead>\n",
       "  <tbody>\n",
       "    <tr>\n",
       "      <th>8462</th>\n",
       "      <td>GENERAL GALVANICA GIRONINA SL</td>\n",
       "      <td>2932</td>\n",
       "      <td>17080</td>\n",
       "      <td>Girona</td>\n",
       "      <td>6611</td>\n",
       "      <td>1231</td>\n",
       "      <td>545</td>\n",
       "      <td>4850</td>\n",
       "      <td>3674</td>\n",
       "      <td>61</td>\n",
       "      <td>1176</td>\n",
       "      <td>NaN</td>\n",
       "      <td>NaN</td>\n",
       "    </tr>\n",
       "  </tbody>\n",
       "</table>\n",
       "</div>"
      ],
      "text/plain": [
       "                               Name  Activity_Code  Postal_Code Province  \\\n",
       "8462  GENERAL GALVANICA GIRONINA SL           2932        17080   Girona   \n",
       "\n",
       "      Revenue  EBITDA  Net_Income  Total_Assets  Equity  Employees  \\\n",
       "8462     6611    1231         545          4850    3674         61   \n",
       "\n",
       "      Liabilities  Nom Comarca  \n",
       "8462         1176  NaN     NaN  "
      ]
     },
     "execution_count": 331,
     "metadata": {},
     "output_type": "execute_result"
    }
   ],
   "source": [
    "df[df['Postal_Code'] == 17080]"
   ]
  },
  {
   "cell_type": "code",
   "execution_count": null,
   "id": "90510425",
   "metadata": {},
   "outputs": [],
   "source": []
  }
 ],
 "metadata": {
  "kernelspec": {
   "display_name": "Python 3 (ipykernel)",
   "language": "python",
   "name": "python3"
  },
  "language_info": {
   "codemirror_mode": {
    "name": "ipython",
    "version": 3
   },
   "file_extension": ".py",
   "mimetype": "text/x-python",
   "name": "python",
   "nbconvert_exporter": "python",
   "pygments_lexer": "ipython3",
   "version": "3.9.12"
  }
 },
 "nbformat": 4,
 "nbformat_minor": 5
}
