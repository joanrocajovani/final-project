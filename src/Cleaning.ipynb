{
 "cells": [
  {
   "cell_type": "code",
   "execution_count": 1,
   "id": "6e992106",
   "metadata": {},
   "outputs": [],
   "source": [
    "import pandas as pd\n",
    "import numpy as np"
   ]
  },
  {
   "cell_type": "code",
   "execution_count": 70,
   "id": "a054671a",
   "metadata": {},
   "outputs": [
    {
     "name": "stdout",
     "output_type": "stream",
     "text": [
      "WARNING *** file size (11645737) not 512 + multiple of sector size (512)\n"
     ]
    }
   ],
   "source": [
    "df = pd.read_excel('../data/Catalunya.xls', sheet_name=1)"
   ]
  },
  {
   "cell_type": "code",
   "execution_count": 71,
   "id": "64b695b8",
   "metadata": {},
   "outputs": [
    {
     "data": {
      "text/html": [
       "<div>\n",
       "<style scoped>\n",
       "    .dataframe tbody tr th:only-of-type {\n",
       "        vertical-align: middle;\n",
       "    }\n",
       "\n",
       "    .dataframe tbody tr th {\n",
       "        vertical-align: top;\n",
       "    }\n",
       "\n",
       "    .dataframe thead th {\n",
       "        text-align: right;\n",
       "    }\n",
       "</style>\n",
       "<table border=\"1\" class=\"dataframe\">\n",
       "  <thead>\n",
       "    <tr style=\"text-align: right;\">\n",
       "      <th></th>\n",
       "      <th>Unnamed: 0</th>\n",
       "      <th>Company Name</th>\n",
       "      <th>CNAE 2009 Primary Code</th>\n",
       "      <th>Postal Code</th>\n",
       "      <th>Province</th>\n",
       "      <th>Operating revenue / turnover\\nth EUR\\n2019</th>\n",
       "      <th>EBITDA\\nth EUR\\n2019</th>\n",
       "      <th>Net income\\nth EUR\\n2019</th>\n",
       "      <th>Total assets\\nth EUR\\n2019</th>\n",
       "      <th>Shareholders funds\\nth EUR\\n2019</th>\n",
       "      <th>Number of employees\\n2019</th>\n",
       "    </tr>\n",
       "  </thead>\n",
       "  <tbody>\n",
       "    <tr>\n",
       "      <th>0</th>\n",
       "      <td>1.0</td>\n",
       "      <td>SEAT SA</td>\n",
       "      <td>2910.0</td>\n",
       "      <td>8760.0</td>\n",
       "      <td>Barcelona</td>\n",
       "      <td>11423000</td>\n",
       "      <td>746700</td>\n",
       "      <td>345600</td>\n",
       "      <td>5843000</td>\n",
       "      <td>1991400</td>\n",
       "      <td>14667</td>\n",
       "    </tr>\n",
       "    <tr>\n",
       "      <th>1</th>\n",
       "      <td>2.0</td>\n",
       "      <td>FOMENTO DE CONSTRUCCIONES Y CONTRATAS SA</td>\n",
       "      <td>7010.0</td>\n",
       "      <td>8007.0</td>\n",
       "      <td>Barcelona</td>\n",
       "      <td>6490558</td>\n",
       "      <td>960723</td>\n",
       "      <td>339924</td>\n",
       "      <td>12574140</td>\n",
       "      <td>2807561</td>\n",
       "      <td>58432</td>\n",
       "    </tr>\n",
       "    <tr>\n",
       "      <th>2</th>\n",
       "      <td>3.0</td>\n",
       "      <td>BAYER HISPANIA SL</td>\n",
       "      <td>2110.0</td>\n",
       "      <td>8970.0</td>\n",
       "      <td>Barcelona</td>\n",
       "      <td>n.a.</td>\n",
       "      <td>n.a.</td>\n",
       "      <td>n.a.</td>\n",
       "      <td>n.a.</td>\n",
       "      <td>n.a.</td>\n",
       "      <td>n.a.</td>\n",
       "    </tr>\n",
       "    <tr>\n",
       "      <th>3</th>\n",
       "      <td>4.0</td>\n",
       "      <td>VIDACAIXA GRUPO SA (EXTINGUIDA)</td>\n",
       "      <td>6511.0</td>\n",
       "      <td>8014.0</td>\n",
       "      <td>Barcelona</td>\n",
       "      <td>n.a.</td>\n",
       "      <td>n.a.</td>\n",
       "      <td>n.a.</td>\n",
       "      <td>n.a.</td>\n",
       "      <td>n.a.</td>\n",
       "      <td>n.a.</td>\n",
       "    </tr>\n",
       "    <tr>\n",
       "      <th>4</th>\n",
       "      <td>5.0</td>\n",
       "      <td>GRIFOLS SA</td>\n",
       "      <td>6420.0</td>\n",
       "      <td>8022.0</td>\n",
       "      <td>Barcelona</td>\n",
       "      <td>5124497</td>\n",
       "      <td>1433820</td>\n",
       "      <td>648644</td>\n",
       "      <td>15542611</td>\n",
       "      <td>6845768</td>\n",
       "      <td>21147</td>\n",
       "    </tr>\n",
       "  </tbody>\n",
       "</table>\n",
       "</div>"
      ],
      "text/plain": [
       "   Unnamed: 0                              Company Name  \\\n",
       "0         1.0                                   SEAT SA   \n",
       "1         2.0  FOMENTO DE CONSTRUCCIONES Y CONTRATAS SA   \n",
       "2         3.0                         BAYER HISPANIA SL   \n",
       "3         4.0           VIDACAIXA GRUPO SA (EXTINGUIDA)   \n",
       "4         5.0                                GRIFOLS SA   \n",
       "\n",
       "   CNAE 2009 Primary Code  Postal Code   Province  \\\n",
       "0                  2910.0       8760.0  Barcelona   \n",
       "1                  7010.0       8007.0  Barcelona   \n",
       "2                  2110.0       8970.0  Barcelona   \n",
       "3                  6511.0       8014.0  Barcelona   \n",
       "4                  6420.0       8022.0  Barcelona   \n",
       "\n",
       "  Operating revenue / turnover\\nth EUR\\n2019 EBITDA\\nth EUR\\n2019  \\\n",
       "0                                   11423000               746700   \n",
       "1                                    6490558               960723   \n",
       "2                                       n.a.                 n.a.   \n",
       "3                                       n.a.                 n.a.   \n",
       "4                                    5124497              1433820   \n",
       "\n",
       "  Net income\\nth EUR\\n2019 Total assets\\nth EUR\\n2019  \\\n",
       "0                   345600                    5843000   \n",
       "1                   339924                   12574140   \n",
       "2                     n.a.                       n.a.   \n",
       "3                     n.a.                       n.a.   \n",
       "4                   648644                   15542611   \n",
       "\n",
       "  Shareholders funds\\nth EUR\\n2019 Number of employees\\n2019  \n",
       "0                          1991400                     14667  \n",
       "1                          2807561                     58432  \n",
       "2                             n.a.                      n.a.  \n",
       "3                             n.a.                      n.a.  \n",
       "4                          6845768                     21147  "
      ]
     },
     "execution_count": 71,
     "metadata": {},
     "output_type": "execute_result"
    }
   ],
   "source": [
    "df.head()"
   ]
  },
  {
   "cell_type": "code",
   "execution_count": null,
   "id": "59cedee4",
   "metadata": {},
   "outputs": [],
   "source": [
    "#Drop the Unnamed Column"
   ]
  },
  {
   "cell_type": "code",
   "execution_count": 72,
   "id": "fc735692",
   "metadata": {},
   "outputs": [],
   "source": [
    "df.drop(['Unnamed: 0'], axis = 1, inplace = True)"
   ]
  },
  {
   "cell_type": "code",
   "execution_count": 76,
   "id": "46217b6d",
   "metadata": {},
   "outputs": [],
   "source": [
    "#Now we change the name of the columns"
   ]
  },
  {
   "cell_type": "code",
   "execution_count": 77,
   "id": "7c064f5a",
   "metadata": {},
   "outputs": [],
   "source": [
    "cols = ['Name', 'Activity_Code', 'Postal_Code', 'Province', 'Revenue', 'EBITDA', 'Net_Income', 'Total_Assets', 'Equity', 'Employees']"
   ]
  },
  {
   "cell_type": "code",
   "execution_count": 78,
   "id": "41ee2af2",
   "metadata": {
    "scrolled": true
   },
   "outputs": [],
   "source": [
    "df.columns = cols"
   ]
  },
  {
   "cell_type": "code",
   "execution_count": 79,
   "id": "d7c4c5fa",
   "metadata": {},
   "outputs": [],
   "source": [
    "#We delete all companies that are extinguished"
   ]
  },
  {
   "cell_type": "code",
   "execution_count": 80,
   "id": "de077239",
   "metadata": {},
   "outputs": [
    {
     "name": "stderr",
     "output_type": "stream",
     "text": [
      "C:\\Users\\joanr\\AppData\\Local\\Temp\\ipykernel_16428\\1228750104.py:2: UserWarning: This pattern is interpreted as a regular expression, and has match groups. To actually get the groups, use str.extract.\n",
      "  filter = df['Name'].str.contains(patternDel)\n"
     ]
    }
   ],
   "source": [
    "patternDel = \"(EXTINGUIDA)\"\n",
    "filter = df['Name'].str.contains(patternDel)\n",
    "df = df[~filter]"
   ]
  },
  {
   "cell_type": "code",
   "execution_count": 82,
   "id": "a8613ef4",
   "metadata": {},
   "outputs": [],
   "source": [
    "#Changing the string n.a. for a nan value"
   ]
  },
  {
   "cell_type": "code",
   "execution_count": 83,
   "id": "736ed7b0",
   "metadata": {
    "scrolled": true
   },
   "outputs": [],
   "source": [
    "df.replace('n.a.', np.nan, inplace = True)"
   ]
  },
  {
   "cell_type": "code",
   "execution_count": 85,
   "id": "0bd4cb44",
   "metadata": {},
   "outputs": [],
   "source": [
    "#We change the string Export Limit reached for nan value"
   ]
  },
  {
   "cell_type": "code",
   "execution_count": 86,
   "id": "a2b65867",
   "metadata": {},
   "outputs": [],
   "source": [
    "df.replace('Financial Export limit reached', np.nan, inplace = True)"
   ]
  },
  {
   "cell_type": "code",
   "execution_count": 90,
   "id": "bd4b53ef",
   "metadata": {},
   "outputs": [],
   "source": [
    "#We drop all nan values"
   ]
  },
  {
   "cell_type": "code",
   "execution_count": 91,
   "id": "d425f4a4",
   "metadata": {},
   "outputs": [],
   "source": [
    "df.dropna(axis = 0, inplace = True)"
   ]
  },
  {
   "cell_type": "code",
   "execution_count": 93,
   "id": "0e7ee7cb",
   "metadata": {},
   "outputs": [],
   "source": [
    "#We keep the companies where the revenue is higher than 5 million"
   ]
  },
  {
   "cell_type": "code",
   "execution_count": 94,
   "id": "3353fc21",
   "metadata": {},
   "outputs": [],
   "source": [
    "df = df[df['Revenue'] > 5000 ]"
   ]
  },
  {
   "cell_type": "code",
   "execution_count": 95,
   "id": "4d81749b",
   "metadata": {},
   "outputs": [
    {
     "data": {
      "text/plain": [
       "(7779, 10)"
      ]
     },
     "execution_count": 95,
     "metadata": {},
     "output_type": "execute_result"
    }
   ],
   "source": [
    "df.shape"
   ]
  },
  {
   "cell_type": "code",
   "execution_count": 98,
   "id": "f58992a0",
   "metadata": {},
   "outputs": [],
   "source": [
    "#Change the floats for Revenue, EBITDA, Net Income, Total Assets and Equity for integers "
   ]
  },
  {
   "cell_type": "code",
   "execution_count": 104,
   "id": "ebdced00",
   "metadata": {},
   "outputs": [],
   "source": [
    "df['Revenue'] = df['Revenue'].astype('int64')\n",
    "df['EBITDA'] = df['EBITDA'].astype('int64')\n",
    "df['Net_Income'] = df['Net_Income'].astype('int64')\n",
    "df['Total_Assets'] = df['Total_Assets'].astype('int64')\n",
    "df['Equity'] = df['Equity'].astype('int64')\n",
    "df['Employees'] = df['Employees'].astype('int64')\n",
    "df['Activity_Code'] = df['Activity_Code'].astype('int64')\n",
    "df['Postal_Code'] = df['Postal_Code'].astype('int64')"
   ]
  },
  {
   "cell_type": "code",
   "execution_count": null,
   "id": "8eaa8295",
   "metadata": {},
   "outputs": [],
   "source": []
  },
  {
   "cell_type": "code",
   "execution_count": 105,
   "id": "247466ed",
   "metadata": {},
   "outputs": [
    {
     "data": {
      "text/html": [
       "<div>\n",
       "<style scoped>\n",
       "    .dataframe tbody tr th:only-of-type {\n",
       "        vertical-align: middle;\n",
       "    }\n",
       "\n",
       "    .dataframe tbody tr th {\n",
       "        vertical-align: top;\n",
       "    }\n",
       "\n",
       "    .dataframe thead th {\n",
       "        text-align: right;\n",
       "    }\n",
       "</style>\n",
       "<table border=\"1\" class=\"dataframe\">\n",
       "  <thead>\n",
       "    <tr style=\"text-align: right;\">\n",
       "      <th></th>\n",
       "      <th>Name</th>\n",
       "      <th>Activity_Code</th>\n",
       "      <th>Postal_Code</th>\n",
       "      <th>Province</th>\n",
       "      <th>Revenue</th>\n",
       "      <th>EBITDA</th>\n",
       "      <th>Net_Income</th>\n",
       "      <th>Total_Assets</th>\n",
       "      <th>Equity</th>\n",
       "      <th>Employees</th>\n",
       "    </tr>\n",
       "  </thead>\n",
       "  <tbody>\n",
       "    <tr>\n",
       "      <th>0</th>\n",
       "      <td>SEAT SA</td>\n",
       "      <td>2910</td>\n",
       "      <td>8760</td>\n",
       "      <td>Barcelona</td>\n",
       "      <td>11423000</td>\n",
       "      <td>746700</td>\n",
       "      <td>345600</td>\n",
       "      <td>5843000</td>\n",
       "      <td>1991400</td>\n",
       "      <td>14667</td>\n",
       "    </tr>\n",
       "    <tr>\n",
       "      <th>1</th>\n",
       "      <td>FOMENTO DE CONSTRUCCIONES Y CONTRATAS SA</td>\n",
       "      <td>7010</td>\n",
       "      <td>8007</td>\n",
       "      <td>Barcelona</td>\n",
       "      <td>6490558</td>\n",
       "      <td>960723</td>\n",
       "      <td>339924</td>\n",
       "      <td>12574140</td>\n",
       "      <td>2807561</td>\n",
       "      <td>58432</td>\n",
       "    </tr>\n",
       "    <tr>\n",
       "      <th>4</th>\n",
       "      <td>GRIFOLS SA</td>\n",
       "      <td>6420</td>\n",
       "      <td>8022</td>\n",
       "      <td>Barcelona</td>\n",
       "      <td>5124497</td>\n",
       "      <td>1433820</td>\n",
       "      <td>648644</td>\n",
       "      <td>15542611</td>\n",
       "      <td>6845768</td>\n",
       "      <td>21147</td>\n",
       "    </tr>\n",
       "    <tr>\n",
       "      <th>5</th>\n",
       "      <td>LIDL SUPERMERCADOS SAU</td>\n",
       "      <td>4711</td>\n",
       "      <td>8110</td>\n",
       "      <td>Barcelona</td>\n",
       "      <td>4443165</td>\n",
       "      <td>362517</td>\n",
       "      <td>172642</td>\n",
       "      <td>2921430</td>\n",
       "      <td>1175303</td>\n",
       "      <td>11689</td>\n",
       "    </tr>\n",
       "    <tr>\n",
       "      <th>7</th>\n",
       "      <td>BUNGE IBERICA SA</td>\n",
       "      <td>4621</td>\n",
       "      <td>8960</td>\n",
       "      <td>Barcelona</td>\n",
       "      <td>3828004</td>\n",
       "      <td>27844</td>\n",
       "      <td>13838</td>\n",
       "      <td>1413173</td>\n",
       "      <td>417189</td>\n",
       "      <td>488</td>\n",
       "    </tr>\n",
       "  </tbody>\n",
       "</table>\n",
       "</div>"
      ],
      "text/plain": [
       "                                       Name  Activity_Code  Postal_Code  \\\n",
       "0                                   SEAT SA           2910         8760   \n",
       "1  FOMENTO DE CONSTRUCCIONES Y CONTRATAS SA           7010         8007   \n",
       "4                                GRIFOLS SA           6420         8022   \n",
       "5                    LIDL SUPERMERCADOS SAU           4711         8110   \n",
       "7                          BUNGE IBERICA SA           4621         8960   \n",
       "\n",
       "    Province   Revenue   EBITDA  Net_Income  Total_Assets   Equity  Employees  \n",
       "0  Barcelona  11423000   746700      345600       5843000  1991400      14667  \n",
       "1  Barcelona   6490558   960723      339924      12574140  2807561      58432  \n",
       "4  Barcelona   5124497  1433820      648644      15542611  6845768      21147  \n",
       "5  Barcelona   4443165   362517      172642       2921430  1175303      11689  \n",
       "7  Barcelona   3828004    27844       13838       1413173   417189        488  "
      ]
     },
     "execution_count": 105,
     "metadata": {},
     "output_type": "execute_result"
    }
   ],
   "source": [
    "df.head()"
   ]
  },
  {
   "cell_type": "code",
   "execution_count": 110,
   "id": "1b4da516",
   "metadata": {},
   "outputs": [],
   "source": [
    "df['Liabilities'] = df['Total_Assets'] - df['Equity']"
   ]
  },
  {
   "cell_type": "code",
   "execution_count": null,
   "id": "3772b478",
   "metadata": {},
   "outputs": [],
   "source": []
  }
 ],
 "metadata": {
  "kernelspec": {
   "display_name": "Python 3 (ipykernel)",
   "language": "python",
   "name": "python3"
  },
  "language_info": {
   "codemirror_mode": {
    "name": "ipython",
    "version": 3
   },
   "file_extension": ".py",
   "mimetype": "text/x-python",
   "name": "python",
   "nbconvert_exporter": "python",
   "pygments_lexer": "ipython3",
   "version": "3.9.12"
  }
 },
 "nbformat": 4,
 "nbformat_minor": 5
}
