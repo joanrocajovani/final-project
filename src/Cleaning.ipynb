{
 "cells": [
  {
   "cell_type": "code",
   "execution_count": 1,
   "id": "a443351f",
   "metadata": {},
   "outputs": [],
   "source": [
    "import pandas as pd\n",
    "import numpy as np"
   ]
  },
  {
   "cell_type": "code",
   "execution_count": 504,
   "id": "0c49d3a1",
   "metadata": {},
   "outputs": [
    {
     "name": "stdout",
     "output_type": "stream",
     "text": [
      "WARNING *** file size (11645737) not 512 + multiple of sector size (512)\n"
     ]
    }
   ],
   "source": [
    "df = pd.read_excel('../data/Catalunya.xls', sheet_name=1)"
   ]
  },
  {
   "cell_type": "code",
   "execution_count": 505,
   "id": "5d1d516b",
   "metadata": {},
   "outputs": [
    {
     "data": {
      "text/html": [
       "<div>\n",
       "<style scoped>\n",
       "    .dataframe tbody tr th:only-of-type {\n",
       "        vertical-align: middle;\n",
       "    }\n",
       "\n",
       "    .dataframe tbody tr th {\n",
       "        vertical-align: top;\n",
       "    }\n",
       "\n",
       "    .dataframe thead th {\n",
       "        text-align: right;\n",
       "    }\n",
       "</style>\n",
       "<table border=\"1\" class=\"dataframe\">\n",
       "  <thead>\n",
       "    <tr style=\"text-align: right;\">\n",
       "      <th></th>\n",
       "      <th>Unnamed: 0</th>\n",
       "      <th>Company Name</th>\n",
       "      <th>CNAE 2009 Primary Code</th>\n",
       "      <th>Postal Code</th>\n",
       "      <th>Province</th>\n",
       "      <th>Operating revenue / turnover\\nth EUR\\n2019</th>\n",
       "      <th>EBITDA\\nth EUR\\n2019</th>\n",
       "      <th>Net income\\nth EUR\\n2019</th>\n",
       "      <th>Total assets\\nth EUR\\n2019</th>\n",
       "      <th>Shareholders funds\\nth EUR\\n2019</th>\n",
       "      <th>Number of employees\\n2019</th>\n",
       "    </tr>\n",
       "  </thead>\n",
       "  <tbody>\n",
       "    <tr>\n",
       "      <th>0</th>\n",
       "      <td>1.0</td>\n",
       "      <td>SEAT SA</td>\n",
       "      <td>2910.0</td>\n",
       "      <td>8760.0</td>\n",
       "      <td>Barcelona</td>\n",
       "      <td>11423000</td>\n",
       "      <td>746700</td>\n",
       "      <td>345600</td>\n",
       "      <td>5843000</td>\n",
       "      <td>1991400</td>\n",
       "      <td>14667</td>\n",
       "    </tr>\n",
       "    <tr>\n",
       "      <th>1</th>\n",
       "      <td>2.0</td>\n",
       "      <td>FOMENTO DE CONSTRUCCIONES Y CONTRATAS SA</td>\n",
       "      <td>7010.0</td>\n",
       "      <td>8007.0</td>\n",
       "      <td>Barcelona</td>\n",
       "      <td>6490558</td>\n",
       "      <td>960723</td>\n",
       "      <td>339924</td>\n",
       "      <td>12574140</td>\n",
       "      <td>2807561</td>\n",
       "      <td>58432</td>\n",
       "    </tr>\n",
       "    <tr>\n",
       "      <th>2</th>\n",
       "      <td>3.0</td>\n",
       "      <td>BAYER HISPANIA SL</td>\n",
       "      <td>2110.0</td>\n",
       "      <td>8970.0</td>\n",
       "      <td>Barcelona</td>\n",
       "      <td>n.a.</td>\n",
       "      <td>n.a.</td>\n",
       "      <td>n.a.</td>\n",
       "      <td>n.a.</td>\n",
       "      <td>n.a.</td>\n",
       "      <td>n.a.</td>\n",
       "    </tr>\n",
       "    <tr>\n",
       "      <th>3</th>\n",
       "      <td>4.0</td>\n",
       "      <td>VIDACAIXA GRUPO SA (EXTINGUIDA)</td>\n",
       "      <td>6511.0</td>\n",
       "      <td>8014.0</td>\n",
       "      <td>Barcelona</td>\n",
       "      <td>n.a.</td>\n",
       "      <td>n.a.</td>\n",
       "      <td>n.a.</td>\n",
       "      <td>n.a.</td>\n",
       "      <td>n.a.</td>\n",
       "      <td>n.a.</td>\n",
       "    </tr>\n",
       "    <tr>\n",
       "      <th>4</th>\n",
       "      <td>5.0</td>\n",
       "      <td>GRIFOLS SA</td>\n",
       "      <td>6420.0</td>\n",
       "      <td>8022.0</td>\n",
       "      <td>Barcelona</td>\n",
       "      <td>5124497</td>\n",
       "      <td>1433820</td>\n",
       "      <td>648644</td>\n",
       "      <td>15542611</td>\n",
       "      <td>6845768</td>\n",
       "      <td>21147</td>\n",
       "    </tr>\n",
       "  </tbody>\n",
       "</table>\n",
       "</div>"
      ],
      "text/plain": [
       "   Unnamed: 0                              Company Name  \\\n",
       "0         1.0                                   SEAT SA   \n",
       "1         2.0  FOMENTO DE CONSTRUCCIONES Y CONTRATAS SA   \n",
       "2         3.0                         BAYER HISPANIA SL   \n",
       "3         4.0           VIDACAIXA GRUPO SA (EXTINGUIDA)   \n",
       "4         5.0                                GRIFOLS SA   \n",
       "\n",
       "   CNAE 2009 Primary Code  Postal Code   Province  \\\n",
       "0                  2910.0       8760.0  Barcelona   \n",
       "1                  7010.0       8007.0  Barcelona   \n",
       "2                  2110.0       8970.0  Barcelona   \n",
       "3                  6511.0       8014.0  Barcelona   \n",
       "4                  6420.0       8022.0  Barcelona   \n",
       "\n",
       "  Operating revenue / turnover\\nth EUR\\n2019 EBITDA\\nth EUR\\n2019  \\\n",
       "0                                   11423000               746700   \n",
       "1                                    6490558               960723   \n",
       "2                                       n.a.                 n.a.   \n",
       "3                                       n.a.                 n.a.   \n",
       "4                                    5124497              1433820   \n",
       "\n",
       "  Net income\\nth EUR\\n2019 Total assets\\nth EUR\\n2019  \\\n",
       "0                   345600                    5843000   \n",
       "1                   339924                   12574140   \n",
       "2                     n.a.                       n.a.   \n",
       "3                     n.a.                       n.a.   \n",
       "4                   648644                   15542611   \n",
       "\n",
       "  Shareholders funds\\nth EUR\\n2019 Number of employees\\n2019  \n",
       "0                          1991400                     14667  \n",
       "1                          2807561                     58432  \n",
       "2                             n.a.                      n.a.  \n",
       "3                             n.a.                      n.a.  \n",
       "4                          6845768                     21147  "
      ]
     },
     "execution_count": 505,
     "metadata": {},
     "output_type": "execute_result"
    }
   ],
   "source": [
    "df.head()"
   ]
  },
  {
   "cell_type": "code",
   "execution_count": 506,
   "id": "102ec032",
   "metadata": {},
   "outputs": [],
   "source": [
    "#Drop the Unnamed Column"
   ]
  },
  {
   "cell_type": "code",
   "execution_count": 507,
   "id": "f55053db",
   "metadata": {},
   "outputs": [],
   "source": [
    "df.drop(['Unnamed: 0'], axis = 1, inplace = True)"
   ]
  },
  {
   "cell_type": "code",
   "execution_count": 508,
   "id": "46c1cd6f",
   "metadata": {},
   "outputs": [],
   "source": [
    "#Now we change the name of the columns"
   ]
  },
  {
   "cell_type": "code",
   "execution_count": 509,
   "id": "549496bc",
   "metadata": {},
   "outputs": [],
   "source": [
    "cols = ['Name', 'Activity_Code', 'Postal_Code', 'Province', 'Revenue', 'EBITDA', 'Net_Income', 'Total_Assets', 'Equity', 'Employees']"
   ]
  },
  {
   "cell_type": "code",
   "execution_count": 510,
   "id": "f39389e9",
   "metadata": {
    "scrolled": true
   },
   "outputs": [],
   "source": [
    "df.columns = cols"
   ]
  },
  {
   "cell_type": "code",
   "execution_count": 511,
   "id": "9431a77a",
   "metadata": {},
   "outputs": [],
   "source": [
    "#We delete all companies that are extinguished"
   ]
  },
  {
   "cell_type": "code",
   "execution_count": 512,
   "id": "a151d9d8",
   "metadata": {},
   "outputs": [
    {
     "name": "stderr",
     "output_type": "stream",
     "text": [
      "C:\\Users\\joanr\\AppData\\Local\\Temp\\ipykernel_25616\\1228750104.py:2: UserWarning: This pattern is interpreted as a regular expression, and has match groups. To actually get the groups, use str.extract.\n",
      "  filter = df['Name'].str.contains(patternDel)\n"
     ]
    }
   ],
   "source": [
    "patternDel = \"(EXTINGUIDA)\"\n",
    "filter = df['Name'].str.contains(patternDel)\n",
    "df = df[~filter]"
   ]
  },
  {
   "cell_type": "code",
   "execution_count": 513,
   "id": "01397b56",
   "metadata": {},
   "outputs": [],
   "source": [
    "#Changing the string n.a. for a nan value"
   ]
  },
  {
   "cell_type": "code",
   "execution_count": 514,
   "id": "fd27b041",
   "metadata": {
    "scrolled": true
   },
   "outputs": [],
   "source": [
    "df.replace('n.a.', np.nan, inplace = True)"
   ]
  },
  {
   "cell_type": "code",
   "execution_count": 515,
   "id": "58c35845",
   "metadata": {},
   "outputs": [],
   "source": [
    "#We change the string Export Limit reached for nan value"
   ]
  },
  {
   "cell_type": "code",
   "execution_count": 516,
   "id": "da8a4f17",
   "metadata": {},
   "outputs": [],
   "source": [
    "df.replace('Financial Export limit reached', np.nan, inplace = True)"
   ]
  },
  {
   "cell_type": "code",
   "execution_count": 517,
   "id": "6bf1e6cf",
   "metadata": {},
   "outputs": [],
   "source": [
    "#We drop all nan values"
   ]
  },
  {
   "cell_type": "code",
   "execution_count": 518,
   "id": "f44a39ef",
   "metadata": {},
   "outputs": [],
   "source": [
    "df.dropna(axis = 0, inplace = True)"
   ]
  },
  {
   "cell_type": "code",
   "execution_count": 519,
   "id": "48666ed4",
   "metadata": {},
   "outputs": [],
   "source": [
    "#We keep the companies where the revenue is higher than 5 million"
   ]
  },
  {
   "cell_type": "code",
   "execution_count": 520,
   "id": "62272044",
   "metadata": {},
   "outputs": [],
   "source": [
    "df = df[df['Revenue'] > 5000 ]"
   ]
  },
  {
   "cell_type": "code",
   "execution_count": 521,
   "id": "5eb9e830",
   "metadata": {},
   "outputs": [
    {
     "data": {
      "text/plain": [
       "(7779, 10)"
      ]
     },
     "execution_count": 521,
     "metadata": {},
     "output_type": "execute_result"
    }
   ],
   "source": [
    "df.shape"
   ]
  },
  {
   "cell_type": "code",
   "execution_count": 522,
   "id": "57c1a2e7",
   "metadata": {},
   "outputs": [],
   "source": [
    "#Change the floats for Revenue, EBITDA, Net Income, Total Assets and Equity for integers "
   ]
  },
  {
   "cell_type": "code",
   "execution_count": 523,
   "id": "b2f5335d",
   "metadata": {},
   "outputs": [],
   "source": [
    "df['Revenue'] = df['Revenue'].astype('int64')\n",
    "df['EBITDA'] = df['EBITDA'].astype('int64')\n",
    "df['Net_Income'] = df['Net_Income'].astype('int64')\n",
    "df['Total_Assets'] = df['Total_Assets'].astype('int64')\n",
    "df['Equity'] = df['Equity'].astype('int64')\n",
    "df['Employees'] = df['Employees'].astype('int64')\n",
    "df['Activity_Code'] = df['Activity_Code'].astype('int64')\n",
    "df['Postal_Code'] = df['Postal_Code'].astype('int64')"
   ]
  },
  {
   "cell_type": "code",
   "execution_count": 524,
   "id": "4bb2e3b9",
   "metadata": {},
   "outputs": [
    {
     "data": {
      "text/html": [
       "<div>\n",
       "<style scoped>\n",
       "    .dataframe tbody tr th:only-of-type {\n",
       "        vertical-align: middle;\n",
       "    }\n",
       "\n",
       "    .dataframe tbody tr th {\n",
       "        vertical-align: top;\n",
       "    }\n",
       "\n",
       "    .dataframe thead th {\n",
       "        text-align: right;\n",
       "    }\n",
       "</style>\n",
       "<table border=\"1\" class=\"dataframe\">\n",
       "  <thead>\n",
       "    <tr style=\"text-align: right;\">\n",
       "      <th></th>\n",
       "      <th>Name</th>\n",
       "      <th>Activity_Code</th>\n",
       "      <th>Postal_Code</th>\n",
       "      <th>Province</th>\n",
       "      <th>Revenue</th>\n",
       "      <th>EBITDA</th>\n",
       "      <th>Net_Income</th>\n",
       "      <th>Total_Assets</th>\n",
       "      <th>Equity</th>\n",
       "      <th>Employees</th>\n",
       "    </tr>\n",
       "  </thead>\n",
       "  <tbody>\n",
       "    <tr>\n",
       "      <th>14969</th>\n",
       "      <td>POBLE ESPANYOL DE MONTJUIC SA</td>\n",
       "      <td>9321</td>\n",
       "      <td>8038</td>\n",
       "      <td>Barcelona</td>\n",
       "      <td>6186</td>\n",
       "      <td>1194</td>\n",
       "      <td>603</td>\n",
       "      <td>5265</td>\n",
       "      <td>3069</td>\n",
       "      <td>46</td>\n",
       "    </tr>\n",
       "    <tr>\n",
       "      <th>14984</th>\n",
       "      <td>PASTRY FACTORY SL.</td>\n",
       "      <td>1072</td>\n",
       "      <td>8192</td>\n",
       "      <td>Barcelona</td>\n",
       "      <td>5515</td>\n",
       "      <td>-974</td>\n",
       "      <td>-1070</td>\n",
       "      <td>8295</td>\n",
       "      <td>-1605</td>\n",
       "      <td>59</td>\n",
       "    </tr>\n",
       "    <tr>\n",
       "      <th>14995</th>\n",
       "      <td>NACAR CENTRE AUTOMOCIO SL</td>\n",
       "      <td>4511</td>\n",
       "      <td>25002</td>\n",
       "      <td>Lleida</td>\n",
       "      <td>5022</td>\n",
       "      <td>-63</td>\n",
       "      <td>-55</td>\n",
       "      <td>1830</td>\n",
       "      <td>1330</td>\n",
       "      <td>8</td>\n",
       "    </tr>\n",
       "    <tr>\n",
       "      <th>14997</th>\n",
       "      <td>GENERAL GALVANICA GIRONINA SL</td>\n",
       "      <td>2932</td>\n",
       "      <td>17080</td>\n",
       "      <td>Girona</td>\n",
       "      <td>6611</td>\n",
       "      <td>1231</td>\n",
       "      <td>545</td>\n",
       "      <td>4850</td>\n",
       "      <td>3674</td>\n",
       "      <td>61</td>\n",
       "    </tr>\n",
       "    <tr>\n",
       "      <th>14999</th>\n",
       "      <td>MAS PINELL HOSTELERIA Y LOGISTICA SL</td>\n",
       "      <td>4711</td>\n",
       "      <td>8022</td>\n",
       "      <td>Barcelona</td>\n",
       "      <td>5188</td>\n",
       "      <td>1061</td>\n",
       "      <td>822</td>\n",
       "      <td>2281</td>\n",
       "      <td>1600</td>\n",
       "      <td>14</td>\n",
       "    </tr>\n",
       "  </tbody>\n",
       "</table>\n",
       "</div>"
      ],
      "text/plain": [
       "                                       Name  Activity_Code  Postal_Code  \\\n",
       "14969         POBLE ESPANYOL DE MONTJUIC SA           9321         8038   \n",
       "14984                    PASTRY FACTORY SL.           1072         8192   \n",
       "14995             NACAR CENTRE AUTOMOCIO SL           4511        25002   \n",
       "14997         GENERAL GALVANICA GIRONINA SL           2932        17080   \n",
       "14999  MAS PINELL HOSTELERIA Y LOGISTICA SL           4711         8022   \n",
       "\n",
       "        Province  Revenue  EBITDA  Net_Income  Total_Assets  Equity  Employees  \n",
       "14969  Barcelona     6186    1194         603          5265    3069         46  \n",
       "14984  Barcelona     5515    -974       -1070          8295   -1605         59  \n",
       "14995     Lleida     5022     -63         -55          1830    1330          8  \n",
       "14997     Girona     6611    1231         545          4850    3674         61  \n",
       "14999  Barcelona     5188    1061         822          2281    1600         14  "
      ]
     },
     "execution_count": 524,
     "metadata": {},
     "output_type": "execute_result"
    }
   ],
   "source": [
    "df.tail()"
   ]
  },
  {
   "cell_type": "code",
   "execution_count": 525,
   "id": "8178288b",
   "metadata": {},
   "outputs": [],
   "source": [
    "df['Liabilities'] = df['Total_Assets'] - df['Equity']"
   ]
  },
  {
   "cell_type": "code",
   "execution_count": 526,
   "id": "ab38dcdd",
   "metadata": {},
   "outputs": [
    {
     "data": {
      "text/html": [
       "<div>\n",
       "<style scoped>\n",
       "    .dataframe tbody tr th:only-of-type {\n",
       "        vertical-align: middle;\n",
       "    }\n",
       "\n",
       "    .dataframe tbody tr th {\n",
       "        vertical-align: top;\n",
       "    }\n",
       "\n",
       "    .dataframe thead th {\n",
       "        text-align: right;\n",
       "    }\n",
       "</style>\n",
       "<table border=\"1\" class=\"dataframe\">\n",
       "  <thead>\n",
       "    <tr style=\"text-align: right;\">\n",
       "      <th></th>\n",
       "      <th>Identificador</th>\n",
       "      <th>Codi postal</th>\n",
       "      <th>Codi municipi</th>\n",
       "      <th>Nom municipi</th>\n",
       "    </tr>\n",
       "  </thead>\n",
       "  <tbody>\n",
       "    <tr>\n",
       "      <th>0</th>\n",
       "      <td>1</td>\n",
       "      <td>8630</td>\n",
       "      <td>80018</td>\n",
       "      <td>Abrera</td>\n",
       "    </tr>\n",
       "    <tr>\n",
       "      <th>1</th>\n",
       "      <td>2</td>\n",
       "      <td>8256</td>\n",
       "      <td>80023</td>\n",
       "      <td>Aguilar de Segarra</td>\n",
       "    </tr>\n",
       "    <tr>\n",
       "      <th>2</th>\n",
       "      <td>3</td>\n",
       "      <td>8281</td>\n",
       "      <td>80023</td>\n",
       "      <td>Aguilar de Segarra</td>\n",
       "    </tr>\n",
       "    <tr>\n",
       "      <th>3</th>\n",
       "      <td>4</td>\n",
       "      <td>8328</td>\n",
       "      <td>80039</td>\n",
       "      <td>Alella</td>\n",
       "    </tr>\n",
       "    <tr>\n",
       "      <th>4</th>\n",
       "      <td>5</td>\n",
       "      <td>8587</td>\n",
       "      <td>80044</td>\n",
       "      <td>Alpens</td>\n",
       "    </tr>\n",
       "  </tbody>\n",
       "</table>\n",
       "</div>"
      ],
      "text/plain": [
       "   Identificador  Codi postal  Codi municipi        Nom municipi\n",
       "0              1         8630          80018              Abrera\n",
       "1              2         8256          80023  Aguilar de Segarra\n",
       "2              3         8281          80023  Aguilar de Segarra\n",
       "3              4         8328          80039              Alella\n",
       "4              5         8587          80044              Alpens"
      ]
     },
     "execution_count": 526,
     "metadata": {},
     "output_type": "execute_result"
    }
   ],
   "source": [
    "x = pd.read_csv('../data/CP_Municipis2.csv')\n",
    "x.head()"
   ]
  },
  {
   "cell_type": "code",
   "execution_count": 550,
   "id": "354bd8bf",
   "metadata": {},
   "outputs": [],
   "source": [
    "#There was a missing zip code for Lleida, so I add it to the dataframe"
   ]
  },
  {
   "cell_type": "code",
   "execution_count": 527,
   "id": "61a7fd7f",
   "metadata": {},
   "outputs": [],
   "source": [
    "x.loc[len(x.index)] = [1413, 25190, 251207, 'Lleida']"
   ]
  },
  {
   "cell_type": "code",
   "execution_count": 528,
   "id": "38f86c37",
   "metadata": {},
   "outputs": [
    {
     "data": {
      "text/html": [
       "<div>\n",
       "<style scoped>\n",
       "    .dataframe tbody tr th:only-of-type {\n",
       "        vertical-align: middle;\n",
       "    }\n",
       "\n",
       "    .dataframe tbody tr th {\n",
       "        vertical-align: top;\n",
       "    }\n",
       "\n",
       "    .dataframe thead th {\n",
       "        text-align: right;\n",
       "    }\n",
       "</style>\n",
       "<table border=\"1\" class=\"dataframe\">\n",
       "  <thead>\n",
       "    <tr style=\"text-align: right;\">\n",
       "      <th></th>\n",
       "      <th>Identificador</th>\n",
       "      <th>Codi postal</th>\n",
       "      <th>Codi municipi</th>\n",
       "      <th>Nom municipi</th>\n",
       "    </tr>\n",
       "  </thead>\n",
       "  <tbody>\n",
       "    <tr>\n",
       "      <th>1410</th>\n",
       "      <td>1411</td>\n",
       "      <td>43100</td>\n",
       "      <td>439076</td>\n",
       "      <td>Canonja, la</td>\n",
       "    </tr>\n",
       "    <tr>\n",
       "      <th>1411</th>\n",
       "      <td>1412</td>\n",
       "      <td>43110</td>\n",
       "      <td>439076</td>\n",
       "      <td>Canonja, la</td>\n",
       "    </tr>\n",
       "    <tr>\n",
       "      <th>1412</th>\n",
       "      <td>9998</td>\n",
       "      <td>99998</td>\n",
       "      <td>999998</td>\n",
       "      <td>No consta</td>\n",
       "    </tr>\n",
       "    <tr>\n",
       "      <th>1413</th>\n",
       "      <td>9999</td>\n",
       "      <td>99999</td>\n",
       "      <td>999999</td>\n",
       "      <td>Altres/Diversos</td>\n",
       "    </tr>\n",
       "    <tr>\n",
       "      <th>1414</th>\n",
       "      <td>1413</td>\n",
       "      <td>25190</td>\n",
       "      <td>251207</td>\n",
       "      <td>Lleida</td>\n",
       "    </tr>\n",
       "  </tbody>\n",
       "</table>\n",
       "</div>"
      ],
      "text/plain": [
       "      Identificador  Codi postal  Codi municipi     Nom municipi\n",
       "1410           1411        43100         439076      Canonja, la\n",
       "1411           1412        43110         439076      Canonja, la\n",
       "1412           9998        99998         999998        No consta\n",
       "1413           9999        99999         999999  Altres/Diversos\n",
       "1414           1413        25190         251207           Lleida"
      ]
     },
     "execution_count": 528,
     "metadata": {},
     "output_type": "execute_result"
    }
   ],
   "source": [
    "x.tail()"
   ]
  },
  {
   "cell_type": "code",
   "execution_count": 529,
   "id": "b9534d51",
   "metadata": {},
   "outputs": [
    {
     "data": {
      "text/html": [
       "<div>\n",
       "<style scoped>\n",
       "    .dataframe tbody tr th:only-of-type {\n",
       "        vertical-align: middle;\n",
       "    }\n",
       "\n",
       "    .dataframe tbody tr th {\n",
       "        vertical-align: top;\n",
       "    }\n",
       "\n",
       "    .dataframe thead th {\n",
       "        text-align: right;\n",
       "    }\n",
       "</style>\n",
       "<table border=\"1\" class=\"dataframe\">\n",
       "  <thead>\n",
       "    <tr style=\"text-align: right;\">\n",
       "      <th></th>\n",
       "      <th>Codi</th>\n",
       "      <th>Nom</th>\n",
       "      <th>Codi comarca</th>\n",
       "      <th>Nom comarca</th>\n",
       "    </tr>\n",
       "  </thead>\n",
       "  <tbody>\n",
       "    <tr>\n",
       "      <th>0</th>\n",
       "      <td>250019</td>\n",
       "      <td>Abella de la Conca</td>\n",
       "      <td>25</td>\n",
       "      <td>Pallars Jussà</td>\n",
       "    </tr>\n",
       "    <tr>\n",
       "      <th>1</th>\n",
       "      <td>80018</td>\n",
       "      <td>Abrera</td>\n",
       "      <td>11</td>\n",
       "      <td>Baix Llobregat</td>\n",
       "    </tr>\n",
       "    <tr>\n",
       "      <th>2</th>\n",
       "      <td>250024</td>\n",
       "      <td>Àger</td>\n",
       "      <td>23</td>\n",
       "      <td>Noguera</td>\n",
       "    </tr>\n",
       "    <tr>\n",
       "      <th>3</th>\n",
       "      <td>250030</td>\n",
       "      <td>Agramunt</td>\n",
       "      <td>38</td>\n",
       "      <td>Urgell</td>\n",
       "    </tr>\n",
       "    <tr>\n",
       "      <th>4</th>\n",
       "      <td>80023</td>\n",
       "      <td>Aguilar de Segarra</td>\n",
       "      <td>7</td>\n",
       "      <td>Bages</td>\n",
       "    </tr>\n",
       "  </tbody>\n",
       "</table>\n",
       "</div>"
      ],
      "text/plain": [
       "     Codi                 Nom  Codi comarca     Nom comarca\n",
       "0  250019  Abella de la Conca            25   Pallars Jussà\n",
       "1   80018              Abrera            11  Baix Llobregat\n",
       "2  250024                Àger            23         Noguera\n",
       "3  250030            Agramunt            38          Urgell\n",
       "4   80023  Aguilar de Segarra             7           Bages"
      ]
     },
     "execution_count": 529,
     "metadata": {},
     "output_type": "execute_result"
    }
   ],
   "source": [
    "y = pd.read_csv('../data/Municipis_Cat3.csv', sep=\";\")\n",
    "y.head()"
   ]
  },
  {
   "cell_type": "code",
   "execution_count": 530,
   "id": "20655eb1",
   "metadata": {},
   "outputs": [
    {
     "data": {
      "text/html": [
       "<div>\n",
       "<style scoped>\n",
       "    .dataframe tbody tr th:only-of-type {\n",
       "        vertical-align: middle;\n",
       "    }\n",
       "\n",
       "    .dataframe tbody tr th {\n",
       "        vertical-align: top;\n",
       "    }\n",
       "\n",
       "    .dataframe thead th {\n",
       "        text-align: right;\n",
       "    }\n",
       "</style>\n",
       "<table border=\"1\" class=\"dataframe\">\n",
       "  <thead>\n",
       "    <tr style=\"text-align: right;\">\n",
       "      <th></th>\n",
       "      <th>Codi</th>\n",
       "      <th>Nom</th>\n",
       "      <th>Codi comarca</th>\n",
       "      <th>Nom comarca</th>\n",
       "    </tr>\n",
       "  </thead>\n",
       "  <tbody>\n",
       "    <tr>\n",
       "      <th>385</th>\n",
       "      <td>251207</td>\n",
       "      <td>Lleida</td>\n",
       "      <td>33</td>\n",
       "      <td>Segrià</td>\n",
       "    </tr>\n",
       "  </tbody>\n",
       "</table>\n",
       "</div>"
      ],
      "text/plain": [
       "       Codi     Nom  Codi comarca Nom comarca\n",
       "385  251207  Lleida            33      Segrià"
      ]
     },
     "execution_count": 530,
     "metadata": {},
     "output_type": "execute_result"
    }
   ],
   "source": [
    "y[y['Nom']=='Lleida']"
   ]
  },
  {
   "cell_type": "code",
   "execution_count": 531,
   "id": "bf997147",
   "metadata": {},
   "outputs": [],
   "source": [
    "x.rename(columns={'Codi municipi': 'Codi_Municipi'}, inplace = True)"
   ]
  },
  {
   "cell_type": "code",
   "execution_count": 532,
   "id": "d57ec45f",
   "metadata": {},
   "outputs": [
    {
     "data": {
      "text/plain": [
       "Identificador     int64\n",
       "Codi postal       int64\n",
       "Codi_Municipi     int64\n",
       "Nom municipi     object\n",
       "dtype: object"
      ]
     },
     "execution_count": 532,
     "metadata": {},
     "output_type": "execute_result"
    }
   ],
   "source": [
    "x.dtypes"
   ]
  },
  {
   "cell_type": "code",
   "execution_count": 533,
   "id": "7cf90f14",
   "metadata": {
    "scrolled": true
   },
   "outputs": [],
   "source": [
    "y.rename(columns={'Codi': 'Codi_Municipi'}, inplace = True)"
   ]
  },
  {
   "cell_type": "code",
   "execution_count": 534,
   "id": "1a186960",
   "metadata": {},
   "outputs": [
    {
     "data": {
      "text/plain": [
       "Codi_Municipi     int64\n",
       "Nom              object\n",
       "Codi comarca      int64\n",
       "Nom comarca      object\n",
       "dtype: object"
      ]
     },
     "execution_count": 534,
     "metadata": {},
     "output_type": "execute_result"
    }
   ],
   "source": [
    "y.dtypes"
   ]
  },
  {
   "cell_type": "code",
   "execution_count": 535,
   "id": "5f4c08d8",
   "metadata": {},
   "outputs": [],
   "source": [
    "x['Codi_Municipi'] = x['Codi_Municipi'].astype('int64')"
   ]
  },
  {
   "cell_type": "code",
   "execution_count": 536,
   "id": "35784502",
   "metadata": {},
   "outputs": [
    {
     "data": {
      "text/plain": [
       "Identificador     int64\n",
       "Codi postal       int64\n",
       "Codi_Municipi     int64\n",
       "Nom municipi     object\n",
       "dtype: object"
      ]
     },
     "execution_count": 536,
     "metadata": {},
     "output_type": "execute_result"
    }
   ],
   "source": [
    "x.dtypes"
   ]
  },
  {
   "cell_type": "code",
   "execution_count": 537,
   "id": "4cf6aa7b",
   "metadata": {},
   "outputs": [
    {
     "data": {
      "text/plain": [
       "Codi_Municipi     int64\n",
       "Nom              object\n",
       "Codi comarca      int64\n",
       "Nom comarca      object\n",
       "dtype: object"
      ]
     },
     "execution_count": 537,
     "metadata": {},
     "output_type": "execute_result"
    }
   ],
   "source": [
    "y.dtypes"
   ]
  },
  {
   "cell_type": "code",
   "execution_count": 538,
   "id": "d165f8d2",
   "metadata": {},
   "outputs": [],
   "source": [
    "merged = x.merge(y, on = 'Codi_Municipi')"
   ]
  },
  {
   "cell_type": "code",
   "execution_count": 539,
   "id": "1f98473c",
   "metadata": {},
   "outputs": [],
   "source": [
    "merged.rename(columns={'Codi postal': 'Postal_Code', \"Nom comarca\": \"Comarca\"}, inplace = True)"
   ]
  },
  {
   "cell_type": "code",
   "execution_count": 540,
   "id": "2daf27db",
   "metadata": {},
   "outputs": [
    {
     "data": {
      "text/html": [
       "<div>\n",
       "<style scoped>\n",
       "    .dataframe tbody tr th:only-of-type {\n",
       "        vertical-align: middle;\n",
       "    }\n",
       "\n",
       "    .dataframe tbody tr th {\n",
       "        vertical-align: top;\n",
       "    }\n",
       "\n",
       "    .dataframe thead th {\n",
       "        text-align: right;\n",
       "    }\n",
       "</style>\n",
       "<table border=\"1\" class=\"dataframe\">\n",
       "  <thead>\n",
       "    <tr style=\"text-align: right;\">\n",
       "      <th></th>\n",
       "      <th>Identificador</th>\n",
       "      <th>Postal_Code</th>\n",
       "      <th>Codi_Municipi</th>\n",
       "      <th>Nom municipi</th>\n",
       "      <th>Nom</th>\n",
       "      <th>Codi comarca</th>\n",
       "      <th>Comarca</th>\n",
       "    </tr>\n",
       "  </thead>\n",
       "  <tbody>\n",
       "    <tr>\n",
       "      <th>0</th>\n",
       "      <td>1</td>\n",
       "      <td>8630</td>\n",
       "      <td>80018</td>\n",
       "      <td>Abrera</td>\n",
       "      <td>Abrera</td>\n",
       "      <td>11</td>\n",
       "      <td>Baix Llobregat</td>\n",
       "    </tr>\n",
       "    <tr>\n",
       "      <th>1</th>\n",
       "      <td>2</td>\n",
       "      <td>8256</td>\n",
       "      <td>80023</td>\n",
       "      <td>Aguilar de Segarra</td>\n",
       "      <td>Aguilar de Segarra</td>\n",
       "      <td>7</td>\n",
       "      <td>Bages</td>\n",
       "    </tr>\n",
       "    <tr>\n",
       "      <th>2</th>\n",
       "      <td>3</td>\n",
       "      <td>8281</td>\n",
       "      <td>80023</td>\n",
       "      <td>Aguilar de Segarra</td>\n",
       "      <td>Aguilar de Segarra</td>\n",
       "      <td>7</td>\n",
       "      <td>Bages</td>\n",
       "    </tr>\n",
       "    <tr>\n",
       "      <th>3</th>\n",
       "      <td>4</td>\n",
       "      <td>8328</td>\n",
       "      <td>80039</td>\n",
       "      <td>Alella</td>\n",
       "      <td>Alella</td>\n",
       "      <td>21</td>\n",
       "      <td>Maresme</td>\n",
       "    </tr>\n",
       "    <tr>\n",
       "      <th>4</th>\n",
       "      <td>5</td>\n",
       "      <td>8587</td>\n",
       "      <td>80044</td>\n",
       "      <td>Alpens</td>\n",
       "      <td>Alpens</td>\n",
       "      <td>24</td>\n",
       "      <td>Osona</td>\n",
       "    </tr>\n",
       "  </tbody>\n",
       "</table>\n",
       "</div>"
      ],
      "text/plain": [
       "   Identificador  Postal_Code  Codi_Municipi        Nom municipi  \\\n",
       "0              1         8630          80018              Abrera   \n",
       "1              2         8256          80023  Aguilar de Segarra   \n",
       "2              3         8281          80023  Aguilar de Segarra   \n",
       "3              4         8328          80039              Alella   \n",
       "4              5         8587          80044              Alpens   \n",
       "\n",
       "                  Nom  Codi comarca         Comarca  \n",
       "0              Abrera            11  Baix Llobregat  \n",
       "1  Aguilar de Segarra             7           Bages  \n",
       "2  Aguilar de Segarra             7           Bages  \n",
       "3              Alella            21         Maresme  \n",
       "4              Alpens            24           Osona  "
      ]
     },
     "execution_count": 540,
     "metadata": {},
     "output_type": "execute_result"
    }
   ],
   "source": [
    "merged.head()"
   ]
  },
  {
   "cell_type": "code",
   "execution_count": 541,
   "id": "1bd98e99",
   "metadata": {},
   "outputs": [],
   "source": [
    "#There is an error in the Postal Code of the company called GENERAL GALVANICA GIRONINA SL, so i change it to the right one"
   ]
  },
  {
   "cell_type": "code",
   "execution_count": 542,
   "id": "b2c3e85f",
   "metadata": {},
   "outputs": [],
   "source": [
    "df['Postal_Code'] = df['Postal_Code'].replace([17080],17007)"
   ]
  },
  {
   "cell_type": "code",
   "execution_count": 543,
   "id": "4d2a8268",
   "metadata": {},
   "outputs": [],
   "source": [
    "#There is another error in the Postal Code of the company called VENVIL BESTIARS I CARNS SL, so I changed it to"
   ]
  },
  {
   "cell_type": "code",
   "execution_count": 544,
   "id": "79460d4e",
   "metadata": {},
   "outputs": [],
   "source": [
    "df['Postal_Code'] = df['Postal_Code'].replace([8190],8174)"
   ]
  },
  {
   "cell_type": "code",
   "execution_count": 545,
   "id": "1b366e94",
   "metadata": {},
   "outputs": [],
   "source": [
    "df = pd.merge(df,merged[['Postal_Code','Nom','Comarca']],on='Postal_Code', how='left')"
   ]
  },
  {
   "cell_type": "code",
   "execution_count": 546,
   "id": "62dd35f0",
   "metadata": {},
   "outputs": [
    {
     "data": {
      "text/html": [
       "<div>\n",
       "<style scoped>\n",
       "    .dataframe tbody tr th:only-of-type {\n",
       "        vertical-align: middle;\n",
       "    }\n",
       "\n",
       "    .dataframe tbody tr th {\n",
       "        vertical-align: top;\n",
       "    }\n",
       "\n",
       "    .dataframe thead th {\n",
       "        text-align: right;\n",
       "    }\n",
       "</style>\n",
       "<table border=\"1\" class=\"dataframe\">\n",
       "  <thead>\n",
       "    <tr style=\"text-align: right;\">\n",
       "      <th></th>\n",
       "      <th>Name</th>\n",
       "      <th>Activity_Code</th>\n",
       "      <th>Postal_Code</th>\n",
       "      <th>Province</th>\n",
       "      <th>Revenue</th>\n",
       "      <th>EBITDA</th>\n",
       "      <th>Net_Income</th>\n",
       "      <th>Total_Assets</th>\n",
       "      <th>Equity</th>\n",
       "      <th>Employees</th>\n",
       "      <th>Liabilities</th>\n",
       "      <th>Nom</th>\n",
       "      <th>Comarca</th>\n",
       "    </tr>\n",
       "  </thead>\n",
       "  <tbody>\n",
       "    <tr>\n",
       "      <th>0</th>\n",
       "      <td>SEAT SA</td>\n",
       "      <td>2910</td>\n",
       "      <td>8760</td>\n",
       "      <td>Barcelona</td>\n",
       "      <td>11423000</td>\n",
       "      <td>746700</td>\n",
       "      <td>345600</td>\n",
       "      <td>5843000</td>\n",
       "      <td>1991400</td>\n",
       "      <td>14667</td>\n",
       "      <td>3851600</td>\n",
       "      <td>Martorell</td>\n",
       "      <td>Baix Llobregat</td>\n",
       "    </tr>\n",
       "    <tr>\n",
       "      <th>1</th>\n",
       "      <td>FOMENTO DE CONSTRUCCIONES Y CONTRATAS SA</td>\n",
       "      <td>7010</td>\n",
       "      <td>8007</td>\n",
       "      <td>Barcelona</td>\n",
       "      <td>6490558</td>\n",
       "      <td>960723</td>\n",
       "      <td>339924</td>\n",
       "      <td>12574140</td>\n",
       "      <td>2807561</td>\n",
       "      <td>58432</td>\n",
       "      <td>9766579</td>\n",
       "      <td>Barcelona</td>\n",
       "      <td>Barcelonès</td>\n",
       "    </tr>\n",
       "    <tr>\n",
       "      <th>2</th>\n",
       "      <td>GRIFOLS SA</td>\n",
       "      <td>6420</td>\n",
       "      <td>8022</td>\n",
       "      <td>Barcelona</td>\n",
       "      <td>5124497</td>\n",
       "      <td>1433820</td>\n",
       "      <td>648644</td>\n",
       "      <td>15542611</td>\n",
       "      <td>6845768</td>\n",
       "      <td>21147</td>\n",
       "      <td>8696843</td>\n",
       "      <td>Barcelona</td>\n",
       "      <td>Barcelonès</td>\n",
       "    </tr>\n",
       "    <tr>\n",
       "      <th>3</th>\n",
       "      <td>LIDL SUPERMERCADOS SAU</td>\n",
       "      <td>4711</td>\n",
       "      <td>8110</td>\n",
       "      <td>Barcelona</td>\n",
       "      <td>4443165</td>\n",
       "      <td>362517</td>\n",
       "      <td>172642</td>\n",
       "      <td>2921430</td>\n",
       "      <td>1175303</td>\n",
       "      <td>11689</td>\n",
       "      <td>1746127</td>\n",
       "      <td>Montcada i Reixac</td>\n",
       "      <td>Vallès Occidental</td>\n",
       "    </tr>\n",
       "    <tr>\n",
       "      <th>4</th>\n",
       "      <td>BUNGE IBERICA SA</td>\n",
       "      <td>4621</td>\n",
       "      <td>8960</td>\n",
       "      <td>Barcelona</td>\n",
       "      <td>3828004</td>\n",
       "      <td>27844</td>\n",
       "      <td>13838</td>\n",
       "      <td>1413173</td>\n",
       "      <td>417189</td>\n",
       "      <td>488</td>\n",
       "      <td>995984</td>\n",
       "      <td>Sant Just Desvern</td>\n",
       "      <td>Baix Llobregat</td>\n",
       "    </tr>\n",
       "  </tbody>\n",
       "</table>\n",
       "</div>"
      ],
      "text/plain": [
       "                                       Name  Activity_Code  Postal_Code  \\\n",
       "0                                   SEAT SA           2910         8760   \n",
       "1  FOMENTO DE CONSTRUCCIONES Y CONTRATAS SA           7010         8007   \n",
       "2                                GRIFOLS SA           6420         8022   \n",
       "3                    LIDL SUPERMERCADOS SAU           4711         8110   \n",
       "4                          BUNGE IBERICA SA           4621         8960   \n",
       "\n",
       "    Province   Revenue   EBITDA  Net_Income  Total_Assets   Equity  Employees  \\\n",
       "0  Barcelona  11423000   746700      345600       5843000  1991400      14667   \n",
       "1  Barcelona   6490558   960723      339924      12574140  2807561      58432   \n",
       "2  Barcelona   5124497  1433820      648644      15542611  6845768      21147   \n",
       "3  Barcelona   4443165   362517      172642       2921430  1175303      11689   \n",
       "4  Barcelona   3828004    27844       13838       1413173   417189        488   \n",
       "\n",
       "   Liabilities                Nom            Comarca  \n",
       "0      3851600          Martorell     Baix Llobregat  \n",
       "1      9766579          Barcelona         Barcelonès  \n",
       "2      8696843          Barcelona         Barcelonès  \n",
       "3      1746127  Montcada i Reixac  Vallès Occidental  \n",
       "4       995984  Sant Just Desvern     Baix Llobregat  "
      ]
     },
     "execution_count": 546,
     "metadata": {},
     "output_type": "execute_result"
    }
   ],
   "source": [
    "df.head()"
   ]
  },
  {
   "cell_type": "code",
   "execution_count": 547,
   "id": "56d85f60",
   "metadata": {},
   "outputs": [
    {
     "data": {
      "text/plain": [
       "Name             0\n",
       "Activity_Code    0\n",
       "Postal_Code      0\n",
       "Province         0\n",
       "Revenue          0\n",
       "EBITDA           0\n",
       "Net_Income       0\n",
       "Total_Assets     0\n",
       "Equity           0\n",
       "Employees        0\n",
       "Liabilities      0\n",
       "Nom              0\n",
       "Comarca          0\n",
       "dtype: int64"
      ]
     },
     "execution_count": 547,
     "metadata": {},
     "output_type": "execute_result"
    }
   ],
   "source": [
    "df.isna().sum()"
   ]
  },
  {
   "cell_type": "code",
   "execution_count": 555,
   "id": "ffc21b28",
   "metadata": {},
   "outputs": [],
   "source": [
    "df['Postal_Code'] = df['Postal_Code'].astype('str')"
   ]
  },
  {
   "cell_type": "code",
   "execution_count": 556,
   "id": "29819b82",
   "metadata": {},
   "outputs": [
    {
     "data": {
      "text/plain": [
       "Name             object\n",
       "Activity_Code     int64\n",
       "Postal_Code      object\n",
       "Province         object\n",
       "Revenue           int64\n",
       "EBITDA            int64\n",
       "Net_Income        int64\n",
       "Total_Assets      int64\n",
       "Equity            int64\n",
       "Employees         int64\n",
       "Liabilities       int64\n",
       "Nom              object\n",
       "Comarca          object\n",
       "dtype: object"
      ]
     },
     "execution_count": 556,
     "metadata": {},
     "output_type": "execute_result"
    }
   ],
   "source": [
    "df.dtypes"
   ]
  },
  {
   "cell_type": "code",
   "execution_count": 557,
   "id": "6dc018d1",
   "metadata": {},
   "outputs": [],
   "source": [
    "df['Postal_Code'] = df['Postal_Code'].str.zfill(5)"
   ]
  },
  {
   "cell_type": "code",
   "execution_count": 558,
   "id": "ace50eb2",
   "metadata": {},
   "outputs": [
    {
     "data": {
      "text/html": [
       "<div>\n",
       "<style scoped>\n",
       "    .dataframe tbody tr th:only-of-type {\n",
       "        vertical-align: middle;\n",
       "    }\n",
       "\n",
       "    .dataframe tbody tr th {\n",
       "        vertical-align: top;\n",
       "    }\n",
       "\n",
       "    .dataframe thead th {\n",
       "        text-align: right;\n",
       "    }\n",
       "</style>\n",
       "<table border=\"1\" class=\"dataframe\">\n",
       "  <thead>\n",
       "    <tr style=\"text-align: right;\">\n",
       "      <th></th>\n",
       "      <th>Name</th>\n",
       "      <th>Activity_Code</th>\n",
       "      <th>Postal_Code</th>\n",
       "      <th>Province</th>\n",
       "      <th>Revenue</th>\n",
       "      <th>EBITDA</th>\n",
       "      <th>Net_Income</th>\n",
       "      <th>Total_Assets</th>\n",
       "      <th>Equity</th>\n",
       "      <th>Employees</th>\n",
       "      <th>Liabilities</th>\n",
       "      <th>Nom</th>\n",
       "      <th>Comarca</th>\n",
       "    </tr>\n",
       "  </thead>\n",
       "  <tbody>\n",
       "    <tr>\n",
       "      <th>0</th>\n",
       "      <td>SEAT SA</td>\n",
       "      <td>2910</td>\n",
       "      <td>08760</td>\n",
       "      <td>Barcelona</td>\n",
       "      <td>11423000</td>\n",
       "      <td>746700</td>\n",
       "      <td>345600</td>\n",
       "      <td>5843000</td>\n",
       "      <td>1991400</td>\n",
       "      <td>14667</td>\n",
       "      <td>3851600</td>\n",
       "      <td>Martorell</td>\n",
       "      <td>Baix Llobregat</td>\n",
       "    </tr>\n",
       "    <tr>\n",
       "      <th>1</th>\n",
       "      <td>FOMENTO DE CONSTRUCCIONES Y CONTRATAS SA</td>\n",
       "      <td>7010</td>\n",
       "      <td>08007</td>\n",
       "      <td>Barcelona</td>\n",
       "      <td>6490558</td>\n",
       "      <td>960723</td>\n",
       "      <td>339924</td>\n",
       "      <td>12574140</td>\n",
       "      <td>2807561</td>\n",
       "      <td>58432</td>\n",
       "      <td>9766579</td>\n",
       "      <td>Barcelona</td>\n",
       "      <td>Barcelonès</td>\n",
       "    </tr>\n",
       "    <tr>\n",
       "      <th>2</th>\n",
       "      <td>GRIFOLS SA</td>\n",
       "      <td>6420</td>\n",
       "      <td>08022</td>\n",
       "      <td>Barcelona</td>\n",
       "      <td>5124497</td>\n",
       "      <td>1433820</td>\n",
       "      <td>648644</td>\n",
       "      <td>15542611</td>\n",
       "      <td>6845768</td>\n",
       "      <td>21147</td>\n",
       "      <td>8696843</td>\n",
       "      <td>Barcelona</td>\n",
       "      <td>Barcelonès</td>\n",
       "    </tr>\n",
       "    <tr>\n",
       "      <th>3</th>\n",
       "      <td>LIDL SUPERMERCADOS SAU</td>\n",
       "      <td>4711</td>\n",
       "      <td>08110</td>\n",
       "      <td>Barcelona</td>\n",
       "      <td>4443165</td>\n",
       "      <td>362517</td>\n",
       "      <td>172642</td>\n",
       "      <td>2921430</td>\n",
       "      <td>1175303</td>\n",
       "      <td>11689</td>\n",
       "      <td>1746127</td>\n",
       "      <td>Montcada i Reixac</td>\n",
       "      <td>Vallès Occidental</td>\n",
       "    </tr>\n",
       "    <tr>\n",
       "      <th>4</th>\n",
       "      <td>BUNGE IBERICA SA</td>\n",
       "      <td>4621</td>\n",
       "      <td>08960</td>\n",
       "      <td>Barcelona</td>\n",
       "      <td>3828004</td>\n",
       "      <td>27844</td>\n",
       "      <td>13838</td>\n",
       "      <td>1413173</td>\n",
       "      <td>417189</td>\n",
       "      <td>488</td>\n",
       "      <td>995984</td>\n",
       "      <td>Sant Just Desvern</td>\n",
       "      <td>Baix Llobregat</td>\n",
       "    </tr>\n",
       "  </tbody>\n",
       "</table>\n",
       "</div>"
      ],
      "text/plain": [
       "                                       Name  Activity_Code Postal_Code  \\\n",
       "0                                   SEAT SA           2910       08760   \n",
       "1  FOMENTO DE CONSTRUCCIONES Y CONTRATAS SA           7010       08007   \n",
       "2                                GRIFOLS SA           6420       08022   \n",
       "3                    LIDL SUPERMERCADOS SAU           4711       08110   \n",
       "4                          BUNGE IBERICA SA           4621       08960   \n",
       "\n",
       "    Province   Revenue   EBITDA  Net_Income  Total_Assets   Equity  Employees  \\\n",
       "0  Barcelona  11423000   746700      345600       5843000  1991400      14667   \n",
       "1  Barcelona   6490558   960723      339924      12574140  2807561      58432   \n",
       "2  Barcelona   5124497  1433820      648644      15542611  6845768      21147   \n",
       "3  Barcelona   4443165   362517      172642       2921430  1175303      11689   \n",
       "4  Barcelona   3828004    27844       13838       1413173   417189        488   \n",
       "\n",
       "   Liabilities                Nom            Comarca  \n",
       "0      3851600          Martorell     Baix Llobregat  \n",
       "1      9766579          Barcelona         Barcelonès  \n",
       "2      8696843          Barcelona         Barcelonès  \n",
       "3      1746127  Montcada i Reixac  Vallès Occidental  \n",
       "4       995984  Sant Just Desvern     Baix Llobregat  "
      ]
     },
     "execution_count": 558,
     "metadata": {},
     "output_type": "execute_result"
    }
   ],
   "source": [
    "df.head()"
   ]
  },
  {
   "cell_type": "code",
   "execution_count": 561,
   "id": "20216980",
   "metadata": {},
   "outputs": [
    {
     "data": {
      "text/html": [
       "<div>\n",
       "<style scoped>\n",
       "    .dataframe tbody tr th:only-of-type {\n",
       "        vertical-align: middle;\n",
       "    }\n",
       "\n",
       "    .dataframe tbody tr th {\n",
       "        vertical-align: top;\n",
       "    }\n",
       "\n",
       "    .dataframe thead th {\n",
       "        text-align: right;\n",
       "    }\n",
       "</style>\n",
       "<table border=\"1\" class=\"dataframe\">\n",
       "  <thead>\n",
       "    <tr style=\"text-align: right;\">\n",
       "      <th></th>\n",
       "      <th>Activity_Code</th>\n",
       "      <th>Revenue</th>\n",
       "      <th>EBITDA</th>\n",
       "      <th>Net_Income</th>\n",
       "      <th>Total_Assets</th>\n",
       "      <th>Equity</th>\n",
       "      <th>Employees</th>\n",
       "      <th>Liabilities</th>\n",
       "    </tr>\n",
       "    <tr>\n",
       "      <th>Province</th>\n",
       "      <th></th>\n",
       "      <th></th>\n",
       "      <th></th>\n",
       "      <th></th>\n",
       "      <th></th>\n",
       "      <th></th>\n",
       "      <th></th>\n",
       "      <th></th>\n",
       "    </tr>\n",
       "  </thead>\n",
       "  <tbody>\n",
       "    <tr>\n",
       "      <th>Barcelona</th>\n",
       "      <td>29238387</td>\n",
       "      <td>351785957</td>\n",
       "      <td>33319779</td>\n",
       "      <td>17641374</td>\n",
       "      <td>389757920</td>\n",
       "      <td>177151574</td>\n",
       "      <td>1294882</td>\n",
       "      <td>212606346</td>\n",
       "    </tr>\n",
       "    <tr>\n",
       "      <th>Girona</th>\n",
       "      <td>3746605</td>\n",
       "      <td>38873247</td>\n",
       "      <td>2324137</td>\n",
       "      <td>1140683</td>\n",
       "      <td>23334311</td>\n",
       "      <td>10922602</td>\n",
       "      <td>179257</td>\n",
       "      <td>12411709</td>\n",
       "    </tr>\n",
       "    <tr>\n",
       "      <th>Lleida</th>\n",
       "      <td>1929441</td>\n",
       "      <td>18284289</td>\n",
       "      <td>1165610</td>\n",
       "      <td>657111</td>\n",
       "      <td>11592579</td>\n",
       "      <td>5573515</td>\n",
       "      <td>48034</td>\n",
       "      <td>6019064</td>\n",
       "    </tr>\n",
       "    <tr>\n",
       "      <th>Tarragona</th>\n",
       "      <td>1974570</td>\n",
       "      <td>19126599</td>\n",
       "      <td>1708126</td>\n",
       "      <td>696521</td>\n",
       "      <td>16370046</td>\n",
       "      <td>7572249</td>\n",
       "      <td>63438</td>\n",
       "      <td>8797797</td>\n",
       "    </tr>\n",
       "  </tbody>\n",
       "</table>\n",
       "</div>"
      ],
      "text/plain": [
       "           Activity_Code    Revenue    EBITDA  Net_Income  Total_Assets  \\\n",
       "Province                                                                  \n",
       "Barcelona       29238387  351785957  33319779    17641374     389757920   \n",
       "Girona           3746605   38873247   2324137     1140683      23334311   \n",
       "Lleida           1929441   18284289   1165610      657111      11592579   \n",
       "Tarragona        1974570   19126599   1708126      696521      16370046   \n",
       "\n",
       "              Equity  Employees  Liabilities  \n",
       "Province                                      \n",
       "Barcelona  177151574    1294882    212606346  \n",
       "Girona      10922602     179257     12411709  \n",
       "Lleida       5573515      48034      6019064  \n",
       "Tarragona    7572249      63438      8797797  "
      ]
     },
     "execution_count": 561,
     "metadata": {},
     "output_type": "execute_result"
    }
   ],
   "source": [
    "df.groupby('Province').sum()"
   ]
  },
  {
   "cell_type": "code",
   "execution_count": null,
   "id": "ef0b3815",
   "metadata": {},
   "outputs": [],
   "source": []
  }
 ],
 "metadata": {
  "kernelspec": {
   "display_name": "Python 3 (ipykernel)",
   "language": "python",
   "name": "python3"
  },
  "language_info": {
   "codemirror_mode": {
    "name": "ipython",
    "version": 3
   },
   "file_extension": ".py",
   "mimetype": "text/x-python",
   "name": "python",
   "nbconvert_exporter": "python",
   "pygments_lexer": "ipython3",
   "version": "3.9.12"
  }
 },
 "nbformat": 4,
 "nbformat_minor": 5
}
